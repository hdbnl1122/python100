{
 "cells": [
  {
   "cell_type": "markdown",
   "metadata": {},
   "source": [
    "排序算法 （选择，冒泡和归并）和查找算法（顺序和折半）"
   ]
  },
  {
   "cell_type": "code",
   "execution_count": 2,
   "metadata": {},
   "outputs": [],
   "source": [
    "def select_sort(origin_items,comp=lambda x,y: x < y):\n",
    "    \"\"\"简单选择排序\"\"\"\n",
    "    items = origin_items[:]\n",
    "    for i in range(len(items) - 1):\n",
    "        min_index = i\n",
    "        for j in range(i + 1,len(items)):\n",
    "            if comp(items[j],items[min_index]):\n",
    "                min_index = j\n",
    "        items[i],items[min_index] = items[min_index],items[i]\n",
    "    return items"
   ]
  },
  {
   "cell_type": "code",
   "execution_count": 4,
   "metadata": {},
   "outputs": [],
   "source": [
    "def bubble_sort(origin_items,comp=lambda x,y: x > y):\n",
    "    \"\"\"高质量冒泡排序（搅拌排序）\"\"\"\n",
    "    items = origin_items[:]\n",
    "    for i in range(len(items) - 1):\n",
    "        swapped = False\n",
    "        for j in range(i,len(items) - 1 - i):\n",
    "            if comp(items[j],items[j + 1]):\n",
    "                items[j],items[j + 1] = items[j + 1],items[j]\n",
    "                swapped = True\n",
    "        if swapped:\n",
    "            swapped = False\n",
    "            for j in range(len(items) - 2 - i,i,-1):\n",
    "                if comp(items[j - 1],items[j]):\n",
    "                    items[j],items[j - 1] = items[j - 1],items[j]\n",
    "                    swapped = True\n",
    "        if not swapped:\n",
    "            break \n",
    "            return items"
   ]
  },
  {
   "cell_type": "code",
   "execution_count": 5,
   "metadata": {},
   "outputs": [],
   "source": [
    "def merge_sort(iems,comp=lambda x,y: x <= y):\n",
    "    \"\"\"归并排序（分治法）\"\"\"\n",
    "    if len(items)< 2:\n",
    "        return items[:]\n",
    "    mid = len(items) // 2\n",
    "    left = merge_sort(items[:mid],comp)\n",
    "    right = merge_sort(items[mid:],comp)\n",
    "    return merge(left,tight,comp)"
   ]
  },
  {
   "cell_type": "code",
   "execution_count": 6,
   "metadata": {},
   "outputs": [],
   "source": [
    "def merge(items1,items2,comp):\n",
    "    \"\"\"合并（将两个有序的表格合并成一个有序的列表）\"\"\"\n",
    "    items = []\n",
    "    index,index1 = 0,0\n",
    "    while index < len(items1) and index1 < len(items2):\n",
    "        if comp(items1[index],items2[index1]):\n",
    "            items.append(items1[index])\n",
    "            index += 1\n",
    "        else:\n",
    "            items.append(items2[index1])\n",
    "            index1 += 1\n",
    "    items += items1[index:]\n",
    "    items += items2[index1:]\n",
    "    return items"
   ]
  },
  {
   "cell_type": "code",
   "execution_count": 12,
   "metadata": {},
   "outputs": [],
   "source": [
    "def seq_search(items,key):\n",
    "    \"\"\"顺序查找\"\"\"\n",
    "    for index,items in enumerate(items):\n",
    "        if item == key:\n",
    "            return index\n",
    "        return -1\n"
   ]
  },
  {
   "cell_type": "code",
   "execution_count": 8,
   "metadata": {},
   "outputs": [],
   "source": [
    "def Max(alist):\n",
    "    pos = 0    #初始位置\n",
    "    imax=alist[0]  #假设第一个元素是最大值\n",
    "    while pos < len(alist):   #在列表中循环\n",
    "        if alist[pos] > imax:  #当前列表的值大于最大值 ，则为最大值\n",
    "            imax=alist[pos]\n",
    "        pos = pos+1  #查找位置 +1 \n",
    "    return imax\n",
    "def Min(alist):\n",
    "    pos = 0   # 初始位置\n",
    "    imin = alist[0]   #假设第一个元素是最小值   \n",
    "    for item in alist:  #对于列表中的每一个值\n",
    "        if item < imin:  #当前的值小于最小的值 则为最小值\n",
    "            imin = item\n",
    "    return imin\n"
   ]
  },
  {
   "cell_type": "code",
   "execution_count": 9,
   "metadata": {},
   "outputs": [
    {
     "data": {
      "text/plain": [
       "56"
      ]
     },
     "execution_count": 9,
     "metadata": {},
     "output_type": "execute_result"
    }
   ],
   "source": [
    "alist=[1,2,5,4,1,56,7,6]\n",
    "Max(alist)"
   ]
  },
  {
   "cell_type": "code",
   "execution_count": 10,
   "metadata": {},
   "outputs": [
    {
     "data": {
      "text/plain": [
       "1"
      ]
     },
     "execution_count": 10,
     "metadata": {},
     "output_type": "execute_result"
    }
   ],
   "source": [
    "Min(alist)"
   ]
  },
  {
   "cell_type": "code",
   "execution_count": 13,
   "metadata": {},
   "outputs": [],
   "source": [
    "def bin_searth(items,key):\n",
    "    \"\"\"折半查找\"\"\"\n",
    "    start,end = 0,len(items) - 1\n",
    "    while start <=end:\n",
    "        mid = (start + end) // 2\n",
    "        if key >items[mid]:\n",
    "            start = mid + 1\n",
    "        elif key < items[mid]:\n",
    "            end = mid - 1\n",
    "        else:\n",
    "            return mid\n",
    "    return -1\n"
   ]
  },
  {
   "cell_type": "markdown",
   "metadata": {},
   "source": [
    "使用生成式（推导式）语法\n",
    "说明：生成式（推导式可以用来生成列表，集合和字典）\n"
   ]
  },
  {
   "cell_type": "code",
   "execution_count": 14,
   "metadata": {},
   "outputs": [
    {
     "name": "stdout",
     "output_type": "stream",
     "text": [
      "{'AAPL': 191.88, 'GOOG': 1186.96, 'IBM': 149.24, 'ACN': 166.89, 'FB': 208.09}\n"
     ]
    }
   ],
   "source": [
    "prices = {\n",
    "    'AAPL': 191.88,\n",
    "    'GOOG': 1186.96,\n",
    "    'IBM': 149.24,\n",
    "    'ORCL': 48.44,\n",
    "    'ACN': 166.89,\n",
    "    'FB': 208.09,\n",
    "    'SYMC': 21.29\n",
    "}\n",
    "# 用股票价格大于100元的股票构造一个新的字典\n",
    "prices2 = {key: value for key, value in prices.items() if value > 100}\n",
    "print(prices2)"
   ]
  },
  {
   "cell_type": "code",
   "execution_count": 15,
   "metadata": {},
   "outputs": [
    {
     "name": "stdout",
     "output_type": "stream",
     "text": [
      "请输入{name}的{course}成绩：55\n",
      "[[55.0, None, None], [None, None, None], [None, None, None], [None, None, None], [None, None, None]]\n",
      "请输入{name}的{course}成绩：65\n",
      "[[55.0, 65.0, None], [None, None, None], [None, None, None], [None, None, None], [None, None, None]]\n",
      "请输入{name}的{course}成绩：456\n",
      "[[55.0, 65.0, 456.0], [None, None, None], [None, None, None], [None, None, None], [None, None, None]]\n",
      "请输入{name}的{course}成绩：45\n"
     ]
    },
    {
     "ename": "IndexError",
     "evalue": "list assignment index out of range",
     "output_type": "error",
     "traceback": [
      "\u001b[1;31m---------------------------------------------------------------------------\u001b[0m",
      "\u001b[1;31mIndexError\u001b[0m                                Traceback (most recent call last)",
      "\u001b[1;32m<ipython-input-15-e2d69b9249e7>\u001b[0m in \u001b[0;36m<module>\u001b[1;34m()\u001b[0m\n\u001b[0;32m      4\u001b[0m \u001b[1;32mfor\u001b[0m \u001b[0mrow\u001b[0m\u001b[1;33m,\u001b[0m \u001b[0mname\u001b[0m \u001b[1;32min\u001b[0m \u001b[0menumerate\u001b[0m\u001b[1;33m(\u001b[0m\u001b[0mnames\u001b[0m\u001b[1;33m)\u001b[0m\u001b[1;33m:\u001b[0m\u001b[1;33m\u001b[0m\u001b[0m\n\u001b[0;32m      5\u001b[0m     \u001b[1;32mfor\u001b[0m \u001b[0mcol\u001b[0m\u001b[1;33m,\u001b[0m\u001b[0mcourse\u001b[0m \u001b[1;32min\u001b[0m \u001b[0menumerate\u001b[0m\u001b[1;33m(\u001b[0m\u001b[0mnames\u001b[0m\u001b[1;33m)\u001b[0m\u001b[1;33m:\u001b[0m\u001b[1;33m\u001b[0m\u001b[0m\n\u001b[1;32m----> 6\u001b[1;33m         \u001b[0mscores\u001b[0m\u001b[1;33m[\u001b[0m\u001b[0mrow\u001b[0m\u001b[1;33m]\u001b[0m\u001b[1;33m[\u001b[0m\u001b[0mcol\u001b[0m\u001b[1;33m]\u001b[0m \u001b[1;33m=\u001b[0m \u001b[0mfloat\u001b[0m\u001b[1;33m(\u001b[0m\u001b[0minput\u001b[0m\u001b[1;33m(\u001b[0m\u001b[1;34m'请输入{name}的{course}成绩：'\u001b[0m\u001b[1;33m)\u001b[0m\u001b[1;33m)\u001b[0m\u001b[1;33m\u001b[0m\u001b[0m\n\u001b[0m\u001b[0;32m      7\u001b[0m         \u001b[0mprint\u001b[0m\u001b[1;33m(\u001b[0m\u001b[0mscores\u001b[0m\u001b[1;33m)\u001b[0m\u001b[1;33m\u001b[0m\u001b[0m\n",
      "\u001b[1;31mIndexError\u001b[0m: list assignment index out of range"
     ]
    }
   ],
   "source": [
    "names = ['关于','张飞','赵云','马超','黄忠']\n",
    "courses = ['英语','语文','数学']\n",
    "scores = [[None]* len(courses)for _ in range(len(names))]\n",
    "for row, name in enumerate(names):\n",
    "    for col,course in enumerate(names):\n",
    "        scores[row][col] = float(input('请输入{name}的{course}成绩：'))\n",
    "        print(scores)"
   ]
  },
  {
   "cell_type": "markdown",
   "metadata": {},
   "source": [
    "heapq,itertools等用法"
   ]
  },
  {
   "cell_type": "code",
   "execution_count": 16,
   "metadata": {},
   "outputs": [],
   "source": [
    "\"\"\"\n",
    "从列表中找出最大的或最小的N个元素\n",
    "堆结构\n",
    "\"\"\"\n",
    "import heapq"
   ]
  },
  {
   "cell_type": "code",
   "execution_count": 18,
   "metadata": {},
   "outputs": [
    {
     "name": "stdout",
     "output_type": "stream",
     "text": [
      "[94, 85, 74]\n",
      "[14, 25, 36]\n",
      "[{'name': 'AAPL', 'shares': 50, 'price': 543.22}, {'name': 'ACME', 'shares': 75, 'price': 115.65}]\n",
      "[{'name': 'FB', 'shares': 200, 'price': 21.09}, {'name': 'IBM', 'shares': 100, 'price': 91.1}]\n"
     ]
    }
   ],
   "source": [
    "list1 = [54,65,25,14,36,74,85,94,45]\n",
    "list2 = [\n",
    "    {'name': 'IBM', 'shares': 100, 'price': 91.1},\n",
    "    {'name': 'AAPL', 'shares': 50, 'price': 543.22},\n",
    "    {'name': 'FB', 'shares': 200, 'price': 21.09},\n",
    "    {'name': 'HPQ', 'shares': 35, 'price': 31.75},\n",
    "    {'name': 'YHOO', 'shares': 45, 'price': 16.35},\n",
    "    {'name': 'ACME', 'shares': 75, 'price': 115.65}\n",
    "]\n",
    "print(heapq.nlargest(3,list1))\n",
    "print(heapq.nsmallest(3,list1))\n",
    "print(heapq.nlargest(2,list2,key=lambda x: x['price']))\n",
    "print(heapq.nlargest(2,list2,key=lambda x: x['shares']))"
   ]
  },
  {
   "cell_type": "code",
   "execution_count": 19,
   "metadata": {},
   "outputs": [],
   "source": [
    "\"\"\"迭代工具   ——排列/组合/笛卡尔积\"\"\"\n",
    "import itertools\n"
   ]
  },
  {
   "cell_type": "code",
   "execution_count": 20,
   "metadata": {},
   "outputs": [
    {
     "data": {
      "text/plain": [
       "<itertools.product at 0x263b0c1aca8>"
      ]
     },
     "execution_count": 20,
     "metadata": {},
     "output_type": "execute_result"
    }
   ],
   "source": [
    "itertools.permutations('abcd')\n",
    "itertools.combinations('abcde',3)\n",
    "itertools.product('abcd','123')"
   ]
  },
  {
   "cell_type": "code",
   "execution_count": 21,
   "metadata": {},
   "outputs": [],
   "source": [
    "\"\"\"找出列表中出现次数最多的元素\"\"\"\n",
    "from collections import Counter"
   ]
  },
  {
   "cell_type": "code",
   "execution_count": 22,
   "metadata": {},
   "outputs": [
    {
     "name": "stdout",
     "output_type": "stream",
     "text": [
      "[('eyes', 8), ('the', 5), ('look', 4)]\n"
     ]
    }
   ],
   "source": [
    "words = [\n",
    "    'look', 'into', 'my', 'eyes', 'look', 'into', 'my', 'eyes',\n",
    "    'the', 'eyes', 'the', 'eyes', 'the', 'eyes', 'not', 'around',\n",
    "    'the', 'eyes', \"don't\", 'look', 'around', 'the', 'eyes',\n",
    "    'look', 'into', 'my', 'eyes', \"you're\", 'under'\n",
    "]\n",
    "counter = Counter(words)\n",
    "print(counter.most_common(3))"
   ]
  },
  {
   "cell_type": "code",
   "execution_count": 26,
   "metadata": {},
   "outputs": [
    {
     "name": "stdout",
     "output_type": "stream",
     "text": [
      "0 25 75\n",
      "4 18 78\n",
      "8 11 81\n",
      "12 4 84\n"
     ]
    }
   ],
   "source": [
    "# 公鸡5元一只 母鸡3元一只 小鸡1元三只\n",
    "# 用100元买100只鸡 问公鸡/母鸡/小鸡各多少只\n",
    "for x in range(20):\n",
    "    for y in range(33):\n",
    "        z = 100 - x - y\n",
    "        if 5 * x + 3 * y + z // 3 == 100 and z % 3 == 0:\n",
    "            print(x, y, z)\n",
    "\n"
   ]
  },
  {
   "cell_type": "code",
   "execution_count": 27,
   "metadata": {},
   "outputs": [
    {
     "name": "stdout",
     "output_type": "stream",
     "text": [
      "3121\n"
     ]
    }
   ],
   "source": [
    "# A、B、C、D、E五人在某天夜里合伙捕鱼 最后疲惫不堪各自睡觉\n",
    "# 第二天A第一个醒来 他将鱼分为5份 扔掉多余的1条 拿走自己的一份\n",
    "# B第二个醒来 也将鱼分为5份 扔掉多余的1条 拿走自己的一份\n",
    "# 然后C、D、E依次醒来也按同样的方式分鱼 问他们至少捕了多少条鱼\n",
    "fish = 6\n",
    "while True:\n",
    "    total = fish\n",
    "    enough = True\n",
    "    for _ in range(5):\n",
    "        if (total - 1) % 5 == 0:\n",
    "            total = (total - 1) // 5 * 4\n",
    "        else:\n",
    "            enough = False\n",
    "            break\n",
    "    if enough:\n",
    "        print(fish)\n",
    "        break\n",
    "    fish += 5"
   ]
  },
  {
   "cell_type": "code",
   "execution_count": null,
   "metadata": {},
   "outputs": [],
   "source": []
  },
  {
   "cell_type": "code",
   "execution_count": null,
   "metadata": {},
   "outputs": [],
   "source": []
  },
  {
   "cell_type": "code",
   "execution_count": null,
   "metadata": {},
   "outputs": [],
   "source": []
  },
  {
   "cell_type": "code",
   "execution_count": null,
   "metadata": {},
   "outputs": [],
   "source": []
  },
  {
   "cell_type": "code",
   "execution_count": null,
   "metadata": {},
   "outputs": [],
   "source": []
  },
  {
   "cell_type": "code",
   "execution_count": null,
   "metadata": {},
   "outputs": [],
   "source": []
  },
  {
   "cell_type": "code",
   "execution_count": null,
   "metadata": {},
   "outputs": [],
   "source": []
  },
  {
   "cell_type": "code",
   "execution_count": null,
   "metadata": {},
   "outputs": [],
   "source": []
  },
  {
   "cell_type": "code",
   "execution_count": null,
   "metadata": {},
   "outputs": [],
   "source": []
  }
 ],
 "metadata": {
  "kernelspec": {
   "display_name": "Python 3",
   "language": "python",
   "name": "python3"
  },
  "language_info": {
   "codemirror_mode": {
    "name": "ipython",
    "version": 3
   },
   "file_extension": ".py",
   "mimetype": "text/x-python",
   "name": "python",
   "nbconvert_exporter": "python",
   "pygments_lexer": "ipython3",
   "version": "3.6.4"
  }
 },
 "nbformat": 4,
 "nbformat_minor": 2
}
