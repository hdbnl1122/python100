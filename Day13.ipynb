{
 "cells": [
  {
   "cell_type": "markdown",
   "metadata": {},
   "source": [
    "什么是进程：进程就是操作系统中执行的一个程序，操作系统以进程为单位分配存储空间，每个进程都有自己的地址空间，数据栈以及其他用于跟踪进程执行的辅助数据，操作系统管理所有进程的执行，为他们合理的分配资源"
   ]
  },
  {
   "cell_type": "markdown",
   "metadata": {},
   "source": [
    "一个进程还可以拥有多个并发的执行线索，简单的说就是拥有多个可以获得CPU调度的执行单元，这就是所谓的线程"
   ]
  },
  {
   "cell_type": "code",
   "execution_count": 6,
   "metadata": {},
   "outputs": [],
   "source": [
    "from random import randint\n",
    "from time import time,sleep"
   ]
  },
  {
   "cell_type": "code",
   "execution_count": 7,
   "metadata": {},
   "outputs": [
    {
     "name": "stdout",
     "output_type": "stream",
     "text": [
      "开始下载python从入门到放弃.pdf。。。\n",
      "python从入门到放弃.pdf下载完成！耗费了5秒\n",
      "开始下载peking hot.avi。。。\n",
      "peking hot.avi下载完成！耗费了6秒\n",
      "总消耗了11.00秒.\n"
     ]
    }
   ],
   "source": [
    "def download_task(filename):\n",
    "    print('开始下载%s。。。' % filename)\n",
    "    time_to_download = randint(5,10)\n",
    "    sleep(time_to_download)\n",
    "    print('%s下载完成！耗费了%d秒'% (filename,time_to_download))\n",
    "    \n",
    "    \n",
    "def main():\n",
    "    start = time()\n",
    "    download_task('python从入门到放弃.pdf')\n",
    "    download_task('peking hot.avi')\n",
    "    end = time()\n",
    "    print('总消耗了%.2f秒.' % (end - start))\n",
    "    \n",
    "    \n",
    "if __name__ == '__main__':\n",
    "    main()"
   ]
  },
  {
   "cell_type": "markdown",
   "metadata": {},
   "source": [
    "从上面的例子可以看出，如果程序中的代码只能按顺序一点点的往下执行，那么即使执行两个毫不相关的下载任务也需要先等待一个文件下载完成才能开始下一个下载任务，显然这并不合理也没有效率。"
   ]
  },
  {
   "cell_type": "code",
   "execution_count": 15,
   "metadata": {},
   "outputs": [],
   "source": [
    "from multiprocessing import Process\n",
    "from os import getpid\n",
    "from random import randint\n",
    "from time import time,sleep"
   ]
  },
  {
   "cell_type": "code",
   "execution_count": 18,
   "metadata": {},
   "outputs": [
    {
     "name": "stdout",
     "output_type": "stream",
     "text": [
      "总共耗费了0.18秒.\n"
     ]
    }
   ],
   "source": [
    "def download_task(filename):\n",
    "    print('启动下载进程，进程号[%d].'% getpid())\n",
    "    print('开始下载%s。。。'% filename)\n",
    "    time_to_downlaod = randint(5,10)\n",
    "    sleep(time_to_downlaod)\n",
    "    print('%s下载完成！耗费了%d秒。'% (filename,time_to_downlaod))\n",
    "    \n",
    "    \n",
    "def main():\n",
    "    start = time()\n",
    "    p1 = Process(target=download_task,args=('python从入门到放弃.pdf',))\n",
    "    p1.start()\n",
    "    p2 = Process(target=download_task,args=('peking hot.avi',))\n",
    "    p2.start()\n",
    "    p1.join()\n",
    "    p2.join()\n",
    "    end = time()             \n",
    "    print('总共耗费了%.2f秒.' % (end - start))\n",
    "                 \n",
    "if __name__ == '__main__':\n",
    "    main()"
   ]
  },
  {
   "cell_type": "markdown",
   "metadata": {},
   "source": [
    "在上面的代码中，我们通过Process类创建了进程对象，通过target参数我们传入一个函数来表示进程启动后要执行的代码，后面的args是一个元组，它代表了传递给函数的参数。Process对象的start方法用来启动进程，而join方法表示等待进程执行结束"
   ]
  },
  {
   "cell_type": "code",
   "execution_count": null,
   "metadata": {},
   "outputs": [],
   "source": [
    "from multiprocessing import Process\n",
    "from time import sleep \n"
   ]
  },
  {
   "cell_type": "code",
   "execution_count": 23,
   "metadata": {},
   "outputs": [],
   "source": [
    "counter = 0\n",
    "\n",
    "def sub_task(string):\n",
    "    global counter\n",
    "    while counter < 10:\n",
    "        print(string,end='',flush=True)\n",
    "        counter += 1\n",
    "        sleep(0.01)\n",
    "        \n",
    "        \n",
    "def main():\n",
    "        Process(target=sub_task,args=('ping',)).start()\n",
    "        Process(target=sub_task,args=('pong',)).start()\n",
    "        \n",
    "        \n",
    "if __name__ == '__main__':\n",
    "    main()"
   ]
  },
  {
   "cell_type": "code",
   "execution_count": 29,
   "metadata": {},
   "outputs": [],
   "source": [
    "from random import randint\n",
    "from threading import Thread\n",
    "from time import time,sleep"
   ]
  },
  {
   "cell_type": "code",
   "execution_count": 36,
   "metadata": {},
   "outputs": [
    {
     "name": "stdout",
     "output_type": "stream",
     "text": [
      "开始下载Peking Hot.avi。。。。总共消耗了0.01秒\n",
      "\n",
      "Peking Hot.avi下载完成！消耗了5秒\n"
     ]
    }
   ],
   "source": [
    "def download(filename):\n",
    "    print('开始下载%s。。。。'% filename)\n",
    "    time_to_download = randint(5,10)\n",
    "    sleep(time_to_download)\n",
    "    print('%s下载完成！消耗了%d秒'%(filename,time_to_download))\n",
    "    \n",
    "    \n",
    "    \n",
    "def main():\n",
    "    start = time()\n",
    "    t1 = Thread(target=download, args=('python从入门到住院.pdf',) )\n",
    "    t2 = Thread(target=download, args=('Peking Hot.avi',))\n",
    "    t2.start()\n",
    "    end = time()\n",
    "    print('总共消耗了%.2f秒'% (end - start))\n",
    "    \n",
    "    \n",
    "if __name__ == '__main__':\n",
    "    main()"
   ]
  },
  {
   "cell_type": "code",
   "execution_count": 38,
   "metadata": {},
   "outputs": [
    {
     "name": "stdout",
     "output_type": "stream",
     "text": [
      "开始下载python从入门到住院.pdf...\n",
      "开始下载pink,hot.avi...\n",
      "pink,hot.avi下载完成 耗费了5秒\n",
      "python从入门到住院.pdf下载完成 耗费了6秒\n",
      "总共消耗了6.018694秒\n"
     ]
    }
   ],
   "source": [
    "def down(filename):\n",
    "    print('开始下载%s...'% filename)\n",
    "    time_to_down = randint(5,10)\n",
    "    sleep(time_to_down)\n",
    "    print('%s下载完成 耗费了%d秒'% (filename,time_to_down))\n",
    "    \n",
    "def main():\n",
    "    start = time()\n",
    "    t1 = Thread(target=down,args=('python从入门到住院.pdf',))\n",
    "    t1.start()\n",
    "    t2 = Thread(target=down,args=('pink,hot.avi',))\n",
    "    t2.start()\n",
    "    t1.join()\n",
    "    t2.join()\n",
    "    end = time()\n",
    "    print('总共消耗了%f秒'% (end - start))\n",
    "    \n",
    "if __name__ =='__main__':\n",
    "    main()"
   ]
  },
  {
   "cell_type": "markdown",
   "metadata": {},
   "source": [
    "我们可以直接使用threading模块的thread类来创建线程，但是我们之前讲过一个非常重要的概念叫‘继承’我们可以从已有的类创建新类，因此也可以通过继承thread类的方式来创建自定义的线程类，然后在创建线程对象并启动线程"
   ]
  },
  {
   "cell_type": "code",
   "execution_count": 39,
   "metadata": {},
   "outputs": [],
   "source": [
    "class Downloadtask(Thread):\n",
    "    def __init__(self,filename):\n",
    "        super().__init__()\n",
    "        self.filename = filename\n",
    "        \n",
    "    def run(self):\n",
    "        print('开始下载%s。。。'% self.filename)\n",
    "        time_to_download = randint(5,10)\n",
    "        sleep(time_to_download)\n",
    "        print('%s下载完成! 耗费了%d秒' % (self._filename, time_to_download))"
   ]
  },
  {
   "cell_type": "code",
   "execution_count": 40,
   "metadata": {},
   "outputs": [
    {
     "name": "stdout",
     "output_type": "stream",
     "text": [
      "开始下载python从入门到放弃.pdf。。。\n",
      "开始下载oeking hot.avi。。。\n"
     ]
    },
    {
     "name": "stderr",
     "output_type": "stream",
     "text": [
      "Exception in thread Thread-30:\n",
      "Traceback (most recent call last):\n",
      "  File \"D:\\nparray\\lib\\threading.py\", line 916, in _bootstrap_inner\n",
      "    self.run()\n",
      "  File \"<ipython-input-39-bb4d73539f34>\", line 10, in run\n",
      "    print('%s下载完成! 耗费了%d秒' % (self._filename, time_to_download))\n",
      "AttributeError: 'Downloadtask' object has no attribute '_filename'\n",
      "\n"
     ]
    },
    {
     "name": "stdout",
     "output_type": "stream",
     "text": [
      "总共消耗了9.026964秒\n"
     ]
    },
    {
     "name": "stderr",
     "output_type": "stream",
     "text": [
      "Exception in thread Thread-31:\n",
      "Traceback (most recent call last):\n",
      "  File \"D:\\nparray\\lib\\threading.py\", line 916, in _bootstrap_inner\n",
      "    self.run()\n",
      "  File \"<ipython-input-39-bb4d73539f34>\", line 10, in run\n",
      "    print('%s下载完成! 耗费了%d秒' % (self._filename, time_to_download))\n",
      "AttributeError: 'Downloadtask' object has no attribute '_filename'\n",
      "\n"
     ]
    }
   ],
   "source": [
    "def main():\n",
    "    start = time()\n",
    "    t1=Downloadtask('python从入门到放弃.pdf')\n",
    "    t1.start()\n",
    "    t2=Downloadtask('oeking hot.avi')\n",
    "    t2.start()\n",
    "    t1.join()\n",
    "    t2.join()\n",
    "    end = time()\n",
    "    print('总共消耗了%f秒'%(end - start))\n",
    "    \n",
    "    \n",
    "if __name__ == '__main__':\n",
    "    main()"
   ]
  },
  {
   "cell_type": "code",
   "execution_count": 43,
   "metadata": {},
   "outputs": [],
   "source": [
    "from time import sleep\n",
    "from threading import Thread"
   ]
  },
  {
   "cell_type": "code",
   "execution_count": 47,
   "metadata": {},
   "outputs": [],
   "source": [
    "class Account(object):\n",
    "    def __init__(self):\n",
    "        self._balance = 0\n",
    "        \n",
    "        \n",
    "    def deposit(self,money):\n",
    "        # 计算存款后的余额\n",
    "        new_balance = self._balance + money\n",
    "        # 模拟受理存款业务需要0.01秒的时间\n",
    "        sleep(0.01)\n",
    "        # 修改账户余额\n",
    "        self._balance = new_balance\n",
    "        \n",
    "    @property\n",
    "    def balance(self):\n",
    "        return self._balance\n",
    "    \n",
    "    \n",
    "    "
   ]
  },
  {
   "cell_type": "code",
   "execution_count": 48,
   "metadata": {},
   "outputs": [],
   "source": [
    "class Addmoneythreads(Thread):\n",
    "    def __init__(self, account, money):\n",
    "        super().__init__()\n",
    "        self._account = account\n",
    "        self._money = money\n",
    "\n",
    "    def run(self):\n",
    "        self._account.deposit(self._money)\n",
    "        "
   ]
  },
  {
   "cell_type": "code",
   "execution_count": 49,
   "metadata": {
    "collapsed": true
   },
   "outputs": [
    {
     "name": "stdout",
     "output_type": "stream",
     "text": [
      "账户余额为：￥1元\n",
      "账户余额为：￥2元\n",
      "账户余额为：￥3元\n",
      "账户余额为：￥4元\n",
      "账户余额为：￥5元\n",
      "账户余额为：￥6元\n",
      "账户余额为：￥7元\n",
      "账户余额为：￥8元\n",
      "账户余额为：￥9元\n",
      "账户余额为：￥10元\n",
      "账户余额为：￥11元\n",
      "账户余额为：￥12元\n",
      "账户余额为：￥13元\n",
      "账户余额为：￥14元\n",
      "账户余额为：￥15元\n",
      "账户余额为：￥16元\n",
      "账户余额为：￥17元\n",
      "账户余额为：￥18元\n",
      "账户余额为：￥19元\n",
      "账户余额为：￥20元\n",
      "账户余额为：￥21元\n",
      "账户余额为：￥22元\n",
      "账户余额为：￥23元\n",
      "账户余额为：￥24元\n",
      "账户余额为：￥25元\n",
      "账户余额为：￥26元\n",
      "账户余额为：￥27元\n",
      "账户余额为：￥28元\n",
      "账户余额为：￥29元\n",
      "账户余额为：￥30元\n",
      "账户余额为：￥31元\n",
      "账户余额为：￥32元\n",
      "账户余额为：￥33元\n",
      "账户余额为：￥34元\n",
      "账户余额为：￥35元\n",
      "账户余额为：￥36元\n",
      "账户余额为：￥37元\n",
      "账户余额为：￥38元\n",
      "账户余额为：￥39元\n",
      "账户余额为：￥40元\n",
      "账户余额为：￥41元\n",
      "账户余额为：￥42元\n",
      "账户余额为：￥43元\n",
      "账户余额为：￥44元\n",
      "账户余额为：￥45元\n",
      "账户余额为：￥46元\n",
      "账户余额为：￥47元\n",
      "账户余额为：￥48元\n",
      "账户余额为：￥49元\n",
      "账户余额为：￥50元\n",
      "账户余额为：￥51元\n",
      "账户余额为：￥52元\n",
      "账户余额为：￥53元\n",
      "账户余额为：￥54元\n",
      "账户余额为：￥55元\n",
      "账户余额为：￥56元\n",
      "账户余额为：￥57元\n",
      "账户余额为：￥58元\n",
      "账户余额为：￥59元\n",
      "账户余额为：￥60元\n",
      "账户余额为：￥61元\n",
      "账户余额为：￥62元\n",
      "账户余额为：￥63元\n",
      "账户余额为：￥64元\n",
      "账户余额为：￥65元\n",
      "账户余额为：￥66元\n",
      "账户余额为：￥67元\n",
      "账户余额为：￥68元\n",
      "账户余额为：￥69元\n",
      "账户余额为：￥70元\n",
      "账户余额为：￥71元\n",
      "账户余额为：￥72元\n",
      "账户余额为：￥73元\n",
      "账户余额为：￥74元\n",
      "账户余额为：￥75元\n",
      "账户余额为：￥76元\n",
      "账户余额为：￥77元\n",
      "账户余额为：￥78元\n",
      "账户余额为：￥79元\n",
      "账户余额为：￥80元\n",
      "账户余额为：￥81元\n",
      "账户余额为：￥82元\n",
      "账户余额为：￥83元\n",
      "账户余额为：￥84元\n",
      "账户余额为：￥85元\n",
      "账户余额为：￥86元\n",
      "账户余额为：￥87元\n",
      "账户余额为：￥88元\n",
      "账户余额为：￥89元\n",
      "账户余额为：￥90元\n",
      "账户余额为：￥91元\n",
      "账户余额为：￥92元\n",
      "账户余额为：￥93元\n",
      "账户余额为：￥94元\n",
      "账户余额为：￥95元\n",
      "账户余额为：￥96元\n",
      "账户余额为：￥97元\n",
      "账户余额为：￥98元\n",
      "账户余额为：￥99元\n",
      "账户余额为：￥100元\n"
     ]
    }
   ],
   "source": [
    "def main():\n",
    "    account = Account()\n",
    "    threads = []\n",
    "    # 创建100个存款的线程向同一个账户中存钱\n",
    "    for _ in range(100):\n",
    "        t = Addmoneythreads(account,1)\n",
    "        threads.append(t)\n",
    "        t.start()\n",
    "        # 等所有存款的线程都执行完毕\n",
    "        for t in threads:\n",
    "            t.join()\n",
    "        print('账户余额为：￥%d元'% account.balance)\n",
    "\n",
    "        \n",
    "if __name__ == '__main__':\n",
    "    main()"
   ]
  },
  {
   "cell_type": "markdown",
   "metadata": {},
   "source": [
    "运行上面的程序，结果让人大跌眼镜，之所以出现在这种情况是因为我们 没有对银行账户这个‘临界资源’加以保护，多个线程同时向账户中存钱时，会一起执行到new_balance = self._balance + money这行代码，多个线程得到的账户余额都是初始状态下的0，所以都是0上面做了+1的操作，因此得到了错误的结果。"
   ]
  },
  {
   "cell_type": "markdown",
   "metadata": {},
   "source": [
    "下面代码演示了如何使用‘锁’来保护对银行账户的操作，"
   ]
  },
  {
   "cell_type": "code",
   "execution_count": null,
   "metadata": {},
   "outputs": [],
   "source": [
    "from time import sleep\n",
    "from threading import Thread, Lock"
   ]
  },
  {
   "cell_type": "code",
   "execution_count": 51,
   "metadata": {},
   "outputs": [
    {
     "name": "stdout",
     "output_type": "stream",
     "text": [
      "账户余额为: ￥100元\n"
     ]
    }
   ],
   "source": [
    "class Account(object):\n",
    "\n",
    "    def __init__(self):\n",
    "        self._balance = 0\n",
    "        self._lock = Lock()\n",
    "\n",
    "    def deposit(self, money):\n",
    "        # 先获取锁才能执行后续的代码\n",
    "        self._lock.acquire()\n",
    "        try:\n",
    "            new_balance = self._balance + money\n",
    "            sleep(0.01)\n",
    "            self._balance = new_balance\n",
    "        finally:\n",
    "            # 在finally中执行释放锁的操作保证正常异常锁都能释放\n",
    "            self._lock.release()\n",
    "\n",
    "    @property\n",
    "    def balance(self):\n",
    "        return self._balance\n",
    "\n",
    "\n",
    "class Addmoneythread(Thread):\n",
    "\n",
    "    def __init__(self, account, money):\n",
    "        super().__init__()\n",
    "        self._account = account\n",
    "        self._money = money\n",
    "\n",
    "    def run(self):\n",
    "        self._account.deposit(self._money)\n",
    "\n",
    "\n",
    "def main():\n",
    "    account = Account()\n",
    "    threads = []\n",
    "    for _ in range(100):\n",
    "        t = Addmoneythread(account, 1)\n",
    "        threads.append(t)\n",
    "        t.start()\n",
    "    for t in threads:\n",
    "        t.join()\n",
    "    print('账户余额为: ￥%d元' % account.balance)\n",
    "\n",
    "\n",
    "if __name__ == '__main__':\n",
    "    main()"
   ]
  },
  {
   "cell_type": "code",
   "execution_count": null,
   "metadata": {},
   "outputs": [],
   "source": []
  },
  {
   "cell_type": "code",
   "execution_count": null,
   "metadata": {},
   "outputs": [],
   "source": []
  }
 ],
 "metadata": {
  "kernelspec": {
   "display_name": "Python 3",
   "language": "python",
   "name": "python3"
  },
  "language_info": {
   "codemirror_mode": {
    "name": "ipython",
    "version": 3
   },
   "file_extension": ".py",
   "mimetype": "text/x-python",
   "name": "python",
   "nbconvert_exporter": "python",
   "pygments_lexer": "ipython3",
   "version": "3.6.4"
  }
 },
 "nbformat": 4,
 "nbformat_minor": 2
}
