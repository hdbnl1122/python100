{
 "cells": [
  {
   "cell_type": "code",
   "execution_count": null,
   "metadata": {},
   "outputs": [],
   "source": [
    "\"\"\"\n",
    "用for循环实现1~100求和\n",
    "\"\"\""
   ]
  },
  {
   "cell_type": "code",
   "execution_count": 1,
   "metadata": {},
   "outputs": [
    {
     "name": "stdout",
     "output_type": "stream",
     "text": [
      "5050\n"
     ]
    }
   ],
   "source": [
    "sum = 0\n",
    "for x in range(101):\n",
    "    sum += x\n",
    "print(sum)"
   ]
  },
  {
   "cell_type": "code",
   "execution_count": null,
   "metadata": {},
   "outputs": [],
   "source": [
    "\"\"\"\n",
    "用for循环实现1~100偶数求和\n",
    "\"\"\""
   ]
  },
  {
   "cell_type": "code",
   "execution_count": 2,
   "metadata": {},
   "outputs": [
    {
     "name": "stdout",
     "output_type": "stream",
     "text": [
      "2550\n"
     ]
    }
   ],
   "source": [
    "sum = 0\n",
    "for x in range(101):\n",
    "    if x % 2 ==0:\n",
    "        sum += x\n",
    "print(sum)"
   ]
  },
  {
   "cell_type": "code",
   "execution_count": null,
   "metadata": {},
   "outputs": [],
   "source": [
    "\"\"\"\n",
    "猜数字游戏\n",
    "计算机出一个1~100之间的随机数有人来猜\n",
    "计算机根据人猜的数字分别给出提示大一点/小一点/猜对了\n",
    "\"\"\""
   ]
  },
  {
   "cell_type": "code",
   "execution_count": 4,
   "metadata": {},
   "outputs": [],
   "source": [
    "import random \n"
   ]
  },
  {
   "cell_type": "code",
   "execution_count": 7,
   "metadata": {},
   "outputs": [
    {
     "name": "stdout",
     "output_type": "stream",
     "text": [
      "请输入：45\n",
      "小一点\n",
      "请输入：25\n",
      "大一点\n",
      "请输入：35\n",
      "小一点\n",
      "请输入：30\n",
      "小一点\n",
      "请输入：27\n",
      "大一点\n",
      "请输入：29\n",
      "小一点\n",
      "请输入：28\n",
      "恭喜你猜对了！\n",
      "你总共猜对了7次\n"
     ]
    }
   ],
   "source": [
    "answer = random.randint(1,100)\n",
    "counter = 0\n",
    "while True:\n",
    "    counter += 1\n",
    "    number = int(input('请输入：'))\n",
    "    if number < answer:\n",
    "        print('大一点')\n",
    "    elif number > answer:\n",
    "        print('小一点')\n",
    "    else:\n",
    "        print('恭喜你猜对了！')\n",
    "        break\n",
    "print('你总共猜对了%d次' % counter)\n",
    "if counter >7:\n",
    "    print('你的智商余额明显不足')"
   ]
  },
  {
   "cell_type": "code",
   "execution_count": null,
   "metadata": {},
   "outputs": [],
   "source": [
    "\"\"\"\n",
    "输出乘法口诀表\n",
    "\"\"\""
   ]
  },
  {
   "cell_type": "code",
   "execution_count": 20,
   "metadata": {},
   "outputs": [
    {
     "name": "stdout",
     "output_type": "stream",
     "text": [
      "1*1=1\t1*2=2\t1*3=3\t1*4=4\t1*5=5\t1*6=6\t1*7=7\t1*8=8\t1*9=9\t\n",
      "2*1=2\t2*2=4\t2*3=6\t2*4=8\t2*5=10\t2*6=12\t2*7=14\t2*8=16\t2*9=18\t\n",
      "3*1=3\t3*2=6\t3*3=9\t3*4=12\t3*5=15\t3*6=18\t3*7=21\t3*8=24\t3*9=27\t\n",
      "4*1=4\t4*2=8\t4*3=12\t4*4=16\t4*5=20\t4*6=24\t4*7=28\t4*8=32\t4*9=36\t\n",
      "5*1=5\t5*2=10\t5*3=15\t5*4=20\t5*5=25\t5*6=30\t5*7=35\t5*8=40\t5*9=45\t\n",
      "6*1=6\t6*2=12\t6*3=18\t6*4=24\t6*5=30\t6*6=36\t6*7=42\t6*8=48\t6*9=54\t\n",
      "7*1=7\t7*2=14\t7*3=21\t7*4=28\t7*5=35\t7*6=42\t7*7=49\t7*8=56\t7*9=63\t\n",
      "8*1=8\t8*2=16\t8*3=24\t8*4=32\t8*5=40\t8*6=48\t8*7=56\t8*8=64\t8*9=72\t\n",
      "9*1=9\t9*2=18\t9*3=27\t9*4=36\t9*5=45\t9*6=54\t9*7=63\t9*8=72\t9*9=81\t\n"
     ]
    }
   ],
   "source": [
    "for i in range(1,10):\n",
    "    for j in range(1,10):\n",
    "        print('%d*%d=%d' % (i , j, i*j),end='\\t')\n",
    "    print()"
   ]
  },
  {
   "cell_type": "code",
   "execution_count": null,
   "metadata": {},
   "outputs": [],
   "source": [
    "\"\"\"\n",
    "输入一个整数判断他是不是素数\n",
    "\"\"\""
   ]
  },
  {
   "cell_type": "code",
   "execution_count": 9,
   "metadata": {},
   "outputs": [],
   "source": [
    "from math import sqrt"
   ]
  },
  {
   "cell_type": "code",
   "execution_count": 23,
   "metadata": {},
   "outputs": [
    {
     "name": "stdout",
     "output_type": "stream",
     "text": [
      "请输入一个整数：9\n",
      "9不是素数\n"
     ]
    }
   ],
   "source": [
    "num = int(input('请输入一个整数：'))\n",
    "end = int(sqrt(num))\n",
    "is_prime = True\n",
    "for x in range(2,end+1):\n",
    "    if num %x ==0:\n",
    "        is_prime = False\n",
    "        break\n",
    "if is_prime and num != 1:\n",
    "    print('%d是素数',num)\n",
    "else:\n",
    "    print('%d不是素数' % num)"
   ]
  },
  {
   "cell_type": "code",
   "execution_count": null,
   "metadata": {},
   "outputs": [],
   "source": [
    "\"\"\"\n",
    "输入两个正整数计算最大公约数和最小公倍数\n",
    "\"\"\""
   ]
  },
  {
   "cell_type": "code",
   "execution_count": 13,
   "metadata": {},
   "outputs": [
    {
     "name": "stdout",
     "output_type": "stream",
     "text": [
      "x= 9\n",
      "y = 6\n",
      "%d和%d的最大公约数是%d (6, 9, 3)\n",
      "%d和%d的最小公倍数是%d (6, 9, 18)\n"
     ]
    }
   ],
   "source": [
    "x = int(input('x= '))\n",
    "y = int(input('y = '))\n",
    "if x > y:\n",
    "    x,y = y,x\n",
    "for factor in range(x,0,-1):\n",
    "    if x % factor ==0 and y% factor ==0:\n",
    "        print('%d和%d的最大公约数是%d',(x,y, factor))\n",
    "        print('%d和%d的最小公倍数是%d',(x, y, x * y // factor))\n",
    "        break"
   ]
  },
  {
   "cell_type": "code",
   "execution_count": null,
   "metadata": {},
   "outputs": [],
   "source": [
    "\"\"\"\n",
    "打印各种三角形图案\n",
    "\"\"\""
   ]
  },
  {
   "cell_type": "code",
   "execution_count": 14,
   "metadata": {},
   "outputs": [
    {
     "name": "stdout",
     "output_type": "stream",
     "text": [
      "请输入行数：5\n",
      "*\n",
      "**\n",
      "***\n",
      "****\n",
      "*****\n"
     ]
    }
   ],
   "source": [
    "row  = int(input('请输入行数：'))\n",
    "for i in range(row):\n",
    "    for _ in range(i + 1):\n",
    "        print('*',end='')\n",
    "    print()"
   ]
  },
  {
   "cell_type": "code",
   "execution_count": 17,
   "metadata": {},
   "outputs": [
    {
     "name": "stdout",
     "output_type": "stream",
     "text": [
      "    *\n",
      "   **\n",
      "  ***\n",
      " ****\n",
      "*****\n"
     ]
    }
   ],
   "source": [
    "for i in range(row):\n",
    "    for j in range(row):\n",
    "        if j < row - i - 1:\n",
    "            print(' ',end='')\n",
    "        else:\n",
    "            print('*',end='')\n",
    "    print()"
   ]
  },
  {
   "cell_type": "code",
   "execution_count": 18,
   "metadata": {},
   "outputs": [
    {
     "name": "stdout",
     "output_type": "stream",
     "text": [
      "    *\n",
      "   ***\n",
      "  *****\n",
      " *******\n",
      "*********\n"
     ]
    }
   ],
   "source": [
    "for i in range(row):\n",
    "    for _ in range(row - i - 1):\n",
    "        print(' ', end=\"\")\n",
    "    for _ in range(2* i + 1):\n",
    "        print(\"*\",end='')\n",
    "    print()"
   ]
  },
  {
   "cell_type": "code",
   "execution_count": null,
   "metadata": {},
   "outputs": [],
   "source": []
  }
 ],
 "metadata": {
  "kernelspec": {
   "display_name": "Python 3",
   "language": "python",
   "name": "python3"
  },
  "language_info": {
   "codemirror_mode": {
    "name": "ipython",
    "version": 3
   },
   "file_extension": ".py",
   "mimetype": "text/x-python",
   "name": "python",
   "nbconvert_exporter": "python",
   "pygments_lexer": "ipython3",
   "version": "3.6.4"
  }
 },
 "nbformat": 4,
 "nbformat_minor": 2
}
