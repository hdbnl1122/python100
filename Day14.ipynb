{
 "cells": [
  {
   "cell_type": "markdown",
   "metadata": {},
   "source": [
    "XML的例子"
   ]
  },
  {
   "cell_type": "markdown",
   "metadata": {},
   "source": [
    "<?xml version=\"1.0\" encoding=\"jbk\"?>\n",
    "<message>\n",
    "\t<from>Alice</from>\n",
    "\t<to>Bob</to>\n",
    "\t<content>Will you marry me?</content>\n",
    "</message>"
   ]
  },
  {
   "cell_type": "markdown",
   "metadata": {},
   "source": [
    "JSON的例子"
   ]
  },
  {
   "cell_type": "markdown",
   "metadata": {},
   "source": [
    "{\n",
    "    \"from\": \"Alice\",\n",
    "    \"to\": \"Bob\",\n",
    "    \"content\": \"Will you marry me?\"\n",
    "}"
   ]
  },
  {
   "cell_type": "code",
   "execution_count": 2,
   "metadata": {},
   "outputs": [],
   "source": [
    "from time import time\n",
    "from threading import Thread\n",
    "import requests"
   ]
  },
  {
   "cell_type": "code",
   "execution_count": 4,
   "metadata": {},
   "outputs": [
    {
     "ename": "IndentationError",
     "evalue": "expected an indented block (<ipython-input-4-31e9bb77d47b>, line 11)",
     "output_type": "error",
     "traceback": [
      "\u001b[1;36m  File \u001b[1;32m\"<ipython-input-4-31e9bb77d47b>\"\u001b[1;36m, line \u001b[1;32m11\u001b[0m\n\u001b[1;33m    filename = self.url[self.url.rfind('/') + 1:]\u001b[0m\n\u001b[1;37m           ^\u001b[0m\n\u001b[1;31mIndentationError\u001b[0m\u001b[1;31m:\u001b[0m expected an indented block\n"
     ]
    }
   ],
   "source": [
    "# 继承thread类创建自定义的线程类\n",
    "class download(Thread):\n",
    "    \n",
    "    \n",
    "    def __init__(self,url):\n",
    "        super().__init__()\n",
    "        self.url = url\n",
    "        \n",
    "        \n",
    "    def run(self):\n",
    "    filename = self.url[self.url.rfind('/') + 1:]\n",
    "    resp = requests.get(self.url)\n",
    "    with open('/Users/han/' + filename, 'wb') as f:\n",
    "        f.write(resp.content)\n",
    "        \n",
    "def main():\n",
    "    # 通过requests模块的get函数获取网络资源\n",
    "    # 下面的代码中使用了天行数据接口提供的网络API\n",
    "    # 要使用该数据接口需要在天行数据的网站上注册\n",
    "    # 然后用自己的Key替换掉下面代码的中APIKey即可\n",
    "    resp = requests.get(\n",
    "        'http://api.tianapi.com/meinv/?key=APIKey&num=10')\n",
    "    # 将服务器返回的JSON格式的数据解析为字典\n",
    "    data_model = resp.json()\n",
    "    for mm_dict in data_model['newslist']:\n",
    "        url = mm_dict['picUrl']\n",
    "        # 通过多线程的方式实现图片下载\n",
    "        DownloadHanlder(url).start()\n",
    "\n",
    "\n",
    "if __name__ == '__main__':\n",
    "    main()        \n",
    "        "
   ]
  },
  {
   "cell_type": "code",
   "execution_count": 5,
   "metadata": {},
   "outputs": [],
   "source": [
    "from socket import socket\n",
    "from threading import Thread\n"
   ]
  },
  {
   "cell_type": "code",
   "execution_count": 7,
   "metadata": {},
   "outputs": [
    {
     "name": "stdout",
     "output_type": "stream",
     "text": [
      "请输入你的昵称：han\n"
     ]
    },
    {
     "ename": "AttributeError",
     "evalue": "'socket' object has no attribute 'counnect'",
     "output_type": "error",
     "traceback": [
      "\u001b[1;31m---------------------------------------------------------------------------\u001b[0m",
      "\u001b[1;31mAttributeError\u001b[0m                            Traceback (most recent call last)",
      "\u001b[1;32m<ipython-input-7-4b7a69006ab7>\u001b[0m in \u001b[0;36m<module>\u001b[1;34m()\u001b[0m\n\u001b[0;32m     26\u001b[0m \u001b[1;33m\u001b[0m\u001b[0m\n\u001b[0;32m     27\u001b[0m \u001b[1;32mif\u001b[0m \u001b[0m__name__\u001b[0m \u001b[1;33m==\u001b[0m \u001b[1;34m'__main__'\u001b[0m\u001b[1;33m:\u001b[0m\u001b[1;33m\u001b[0m\u001b[0m\n\u001b[1;32m---> 28\u001b[1;33m     \u001b[0mmain\u001b[0m\u001b[1;33m(\u001b[0m\u001b[1;33m)\u001b[0m\u001b[1;33m\u001b[0m\u001b[0m\n\u001b[0m",
      "\u001b[1;32m<ipython-input-7-4b7a69006ab7>\u001b[0m in \u001b[0;36mmain\u001b[1;34m()\u001b[0m\n\u001b[0;32m     13\u001b[0m     \u001b[0mnickname\u001b[0m \u001b[1;33m=\u001b[0m \u001b[0minput\u001b[0m\u001b[1;33m(\u001b[0m\u001b[1;34m'请输入你的昵称：'\u001b[0m\u001b[1;33m)\u001b[0m\u001b[1;33m\u001b[0m\u001b[0m\n\u001b[0;32m     14\u001b[0m     \u001b[0mmyclient\u001b[0m \u001b[1;33m=\u001b[0m \u001b[0msocket\u001b[0m\u001b[1;33m(\u001b[0m\u001b[1;33m)\u001b[0m\u001b[1;33m\u001b[0m\u001b[0m\n\u001b[1;32m---> 15\u001b[1;33m     \u001b[0mmyclient\u001b[0m\u001b[1;33m.\u001b[0m\u001b[0mcounnect\u001b[0m\u001b[1;33m(\u001b[0m\u001b[1;33m(\u001b[0m\u001b[1;34m'10.7.189.118'\u001b[0m\u001b[1;33m,\u001b[0m\u001b[1;36m12345\u001b[0m\u001b[1;33m)\u001b[0m\u001b[1;33m)\u001b[0m\u001b[1;33m\u001b[0m\u001b[0m\n\u001b[0m\u001b[0;32m     16\u001b[0m     \u001b[0mrunning\u001b[0m \u001b[1;33m=\u001b[0m \u001b[1;32mTrue\u001b[0m\u001b[1;33m\u001b[0m\u001b[0m\n\u001b[0;32m     17\u001b[0m     \u001b[0mrefresh\u001b[0m\u001b[1;33m(\u001b[0m\u001b[0mmyclient\u001b[0m\u001b[1;33m)\u001b[0m\u001b[1;33m.\u001b[0m\u001b[0mstart\u001b[0m\u001b[1;33m(\u001b[0m\u001b[1;33m)\u001b[0m\u001b[1;33m\u001b[0m\u001b[0m\n",
      "\u001b[1;31mAttributeError\u001b[0m: 'socket' object has no attribute 'counnect'"
     ]
    }
   ],
   "source": [
    "def main():\n",
    "    class refresh(Thread):\n",
    "        \n",
    "        def __init__(self,client):\n",
    "            super().__init__()\n",
    "            self._client = client\n",
    "            \n",
    "        def run(self):\n",
    "            while running:\n",
    "                data = self._client.recv(1024)\n",
    "                print(data.decode('jbk'))\n",
    "    \n",
    "    nickname = input('请输入你的昵称：')\n",
    "    myclient = socket()\n",
    "    myclient.counnect(('10.7.189.118',12345))\n",
    "    running = True\n",
    "    refresh(myclient).start()\n",
    "    while running:\n",
    "        content = input('请发言：')\n",
    "        if content == 'byebye':\n",
    "            myclient.send(content.encode('jbk'))\n",
    "            running = False\n",
    "        else:\n",
    "            msg = nickname  + ':' + content\n",
    "            myclient.send(msg.encode('jbk'))\n",
    "            \n",
    "if __name__ == '__main__':\n",
    "    main()"
   ]
  },
  {
   "cell_type": "code",
   "execution_count": 9,
   "metadata": {},
   "outputs": [
    {
     "ename": "OSError",
     "evalue": "[WinError 10049] 在其上下文中，该请求的地址无效。",
     "output_type": "error",
     "traceback": [
      "\u001b[1;31m---------------------------------------------------------------------------\u001b[0m",
      "\u001b[1;31mOSError\u001b[0m                                   Traceback (most recent call last)",
      "\u001b[1;32m<ipython-input-9-23e7a37706b5>\u001b[0m in \u001b[0;36m<module>\u001b[1;34m()\u001b[0m\n\u001b[0;32m     42\u001b[0m \u001b[1;33m\u001b[0m\u001b[0m\n\u001b[0;32m     43\u001b[0m \u001b[1;32mif\u001b[0m \u001b[0m__name__\u001b[0m \u001b[1;33m==\u001b[0m \u001b[1;34m'__main__'\u001b[0m\u001b[1;33m:\u001b[0m\u001b[1;33m\u001b[0m\u001b[0m\n\u001b[1;32m---> 44\u001b[1;33m     \u001b[0mmain\u001b[0m\u001b[1;33m(\u001b[0m\u001b[1;33m)\u001b[0m\u001b[1;33m\u001b[0m\u001b[0m\n\u001b[0m",
      "\u001b[1;32m<ipython-input-9-23e7a37706b5>\u001b[0m in \u001b[0;36mmain\u001b[1;34m()\u001b[0m\n\u001b[0;32m     31\u001b[0m \u001b[1;33m\u001b[0m\u001b[0m\n\u001b[0;32m     32\u001b[0m     \u001b[0mserver\u001b[0m \u001b[1;33m=\u001b[0m \u001b[0msocket\u001b[0m\u001b[1;33m(\u001b[0m\u001b[1;33m)\u001b[0m\u001b[1;33m\u001b[0m\u001b[0m\n\u001b[1;32m---> 33\u001b[1;33m     \u001b[0mserver\u001b[0m\u001b[1;33m.\u001b[0m\u001b[0mbind\u001b[0m\u001b[1;33m(\u001b[0m\u001b[1;33m(\u001b[0m\u001b[1;34m'10.7.189.118'\u001b[0m\u001b[1;33m,\u001b[0m \u001b[1;36m12345\u001b[0m\u001b[1;33m)\u001b[0m\u001b[1;33m)\u001b[0m\u001b[1;33m\u001b[0m\u001b[0m\n\u001b[0m\u001b[0;32m     34\u001b[0m     \u001b[0mserver\u001b[0m\u001b[1;33m.\u001b[0m\u001b[0mlisten\u001b[0m\u001b[1;33m(\u001b[0m\u001b[1;36m512\u001b[0m\u001b[1;33m)\u001b[0m\u001b[1;33m\u001b[0m\u001b[0m\n\u001b[0;32m     35\u001b[0m     \u001b[0mclients\u001b[0m \u001b[1;33m=\u001b[0m \u001b[1;33m[\u001b[0m\u001b[1;33m]\u001b[0m\u001b[1;33m\u001b[0m\u001b[0m\n",
      "\u001b[1;31mOSError\u001b[0m: [WinError 10049] 在其上下文中，该请求的地址无效。"
     ]
    }
   ],
   "source": [
    "from socket import socket\n",
    "from threading import Thread\n",
    "\n",
    "\n",
    "def main():\n",
    "\n",
    "    class ClientHandler(Thread):\n",
    "\n",
    "        def __init__(self, client):\n",
    "            super().__init__()\n",
    "            self._client = client\n",
    "\n",
    "        def run(self):\n",
    "            try:\n",
    "                while True:\n",
    "                    try:\n",
    "                        data = self._client.recv(1024)\n",
    "                        if data.decode('jbk') == 'byebye':\n",
    "                            clients.remove(self._client)\n",
    "                            self._client.close()\n",
    "                            break\n",
    "                        else:\n",
    "                            for client in clients:\n",
    "                                client.send(data)\n",
    "                    except Exception as e:\n",
    "                        print(e)\n",
    "                        clients.remove(self._client)\n",
    "                        break\n",
    "            except Exception as e:\n",
    "                print(e)\n",
    "\n",
    "    server = socket()\n",
    "    server.bind(('10.7.189.118', 12345))\n",
    "    server.listen(512)\n",
    "    clients = []\n",
    "    while True:\n",
    "        curr_client, addr = server.accept()\n",
    "        print(addr[0], '连接到服务器.')\n",
    "        clients.append(curr_client)\n",
    "        ClientHandler(curr_client).start()\n",
    "\n",
    "\n",
    "if __name__ == '__main__':\n",
    "    main()"
   ]
  },
  {
   "cell_type": "code",
   "execution_count": 10,
   "metadata": {},
   "outputs": [
    {
     "ename": "TimeoutError",
     "evalue": "[WinError 10060] 由于连接方在一段时间后没有正确答复或连接的主机没有反应，连接尝试失败。",
     "output_type": "error",
     "traceback": [
      "\u001b[1;31m---------------------------------------------------------------------------\u001b[0m",
      "\u001b[1;31mTimeoutError\u001b[0m                              Traceback (most recent call last)",
      "\u001b[1;32m<ipython-input-10-dd4f3a5eca99>\u001b[0m in \u001b[0;36m<module>\u001b[1;34m()\u001b[0m\n\u001b[0;32m     27\u001b[0m \u001b[1;33m\u001b[0m\u001b[0m\n\u001b[0;32m     28\u001b[0m \u001b[1;32mif\u001b[0m \u001b[0m__name__\u001b[0m \u001b[1;33m==\u001b[0m \u001b[1;34m'__main__'\u001b[0m\u001b[1;33m:\u001b[0m\u001b[1;33m\u001b[0m\u001b[0m\n\u001b[1;32m---> 29\u001b[1;33m     \u001b[0mmain\u001b[0m\u001b[1;33m(\u001b[0m\u001b[1;33m)\u001b[0m\u001b[1;33m\u001b[0m\u001b[0m\n\u001b[0m",
      "\u001b[1;32m<ipython-input-10-dd4f3a5eca99>\u001b[0m in \u001b[0;36mmain\u001b[1;34m()\u001b[0m\n\u001b[0;32m      6\u001b[0m \u001b[1;32mdef\u001b[0m \u001b[0mmain\u001b[0m\u001b[1;33m(\u001b[0m\u001b[1;33m)\u001b[0m\u001b[1;33m:\u001b[0m\u001b[1;33m\u001b[0m\u001b[0m\n\u001b[0;32m      7\u001b[0m     \u001b[0mclient\u001b[0m \u001b[1;33m=\u001b[0m \u001b[0msocket\u001b[0m\u001b[1;33m(\u001b[0m\u001b[1;33m)\u001b[0m\u001b[1;33m\u001b[0m\u001b[0m\n\u001b[1;32m----> 8\u001b[1;33m     \u001b[0mclient\u001b[0m\u001b[1;33m.\u001b[0m\u001b[0mconnect\u001b[0m\u001b[1;33m(\u001b[0m\u001b[1;33m(\u001b[0m\u001b[1;34m'192.168.1.2'\u001b[0m\u001b[1;33m,\u001b[0m \u001b[1;36m5566\u001b[0m\u001b[1;33m)\u001b[0m\u001b[1;33m)\u001b[0m\u001b[1;33m\u001b[0m\u001b[0m\n\u001b[0m\u001b[0;32m      9\u001b[0m     \u001b[1;31m# 定义一个保存二进制数据的对象\u001b[0m\u001b[1;33m\u001b[0m\u001b[1;33m\u001b[0m\u001b[0m\n\u001b[0;32m     10\u001b[0m     \u001b[0min_data\u001b[0m \u001b[1;33m=\u001b[0m \u001b[0mbytes\u001b[0m\u001b[1;33m(\u001b[0m\u001b[1;33m)\u001b[0m\u001b[1;33m\u001b[0m\u001b[0m\n",
      "\u001b[1;31mTimeoutError\u001b[0m: [WinError 10060] 由于连接方在一段时间后没有正确答复或连接的主机没有反应，连接尝试失败。"
     ]
    }
   ],
   "source": [
    "from socket import socket\n",
    "from json import loads\n",
    "from base64 import b64decode\n",
    "\n",
    "\n",
    "def main():\n",
    "    client = socket()\n",
    "    client.connect(('192.168.1.2', 5566))\n",
    "    # 定义一个保存二进制数据的对象\n",
    "    in_data = bytes()\n",
    "    # 由于不知道服务器发送的数据有多大每次接收1024字节\n",
    "    data = client.recv(1024)\n",
    "    while data:\n",
    "        # 将收到的数据拼接起来\n",
    "        in_data += data\n",
    "        data = client.recv(1024)\n",
    "    # 将收到的二进制数据解码成JSON字符串并转换成字典\n",
    "    # loads函数的作用就是将JSON字符串转成字典对象\n",
    "    my_dict = loads(in_data.decode('utf-8'))\n",
    "    filename = my_dict['filename']\n",
    "    filedata = my_dict['filedata'].encode('utf-8')\n",
    "    with open('/Users/Hao/' + filename, 'wb') as f:\n",
    "        # 将base64格式的数据解码成二进制数据并写入文件\n",
    "        f.write(b64decode(filedata))\n",
    "    print('图片已保存.')\n",
    "\n",
    "\n",
    "if __name__ == '__main__':\n",
    "    main()"
   ]
  },
  {
   "cell_type": "code",
   "execution_count": 12,
   "metadata": {},
   "outputs": [],
   "source": [
    "from socket import socket,SOCK_STREAM,AF_INET\n",
    "from datetime import datetime"
   ]
  },
  {
   "cell_type": "code",
   "execution_count": 14,
   "metadata": {},
   "outputs": [
    {
     "ename": "OSError",
     "evalue": "[WinError 10049] 在其上下文中，该请求的地址无效。",
     "output_type": "error",
     "traceback": [
      "\u001b[1;31m---------------------------------------------------------------------------\u001b[0m",
      "\u001b[1;31mOSError\u001b[0m                                   Traceback (most recent call last)",
      "\u001b[1;32m<ipython-input-14-f6c38f348d07>\u001b[0m in \u001b[0;36m<module>\u001b[1;34m()\u001b[0m\n\u001b[0;32m     28\u001b[0m \u001b[1;33m\u001b[0m\u001b[0m\n\u001b[0;32m     29\u001b[0m \u001b[1;32mif\u001b[0m \u001b[0m__name__\u001b[0m \u001b[1;33m==\u001b[0m \u001b[1;34m'__main__'\u001b[0m\u001b[1;33m:\u001b[0m\u001b[1;33m\u001b[0m\u001b[0m\n\u001b[1;32m---> 30\u001b[1;33m     \u001b[0mmain\u001b[0m\u001b[1;33m(\u001b[0m\u001b[1;33m)\u001b[0m\u001b[1;33m\u001b[0m\u001b[0m\n\u001b[0m",
      "\u001b[1;32m<ipython-input-14-f6c38f348d07>\u001b[0m in \u001b[0;36mmain\u001b[1;34m()\u001b[0m\n\u001b[0;32m     10\u001b[0m     \u001b[1;31m# 同一时间在同一个端口上只能绑定一个服务否则报错\u001b[0m\u001b[1;33m\u001b[0m\u001b[1;33m\u001b[0m\u001b[0m\n\u001b[0;32m     11\u001b[0m \u001b[1;33m\u001b[0m\u001b[0m\n\u001b[1;32m---> 12\u001b[1;33m     \u001b[0mserver\u001b[0m\u001b[1;33m.\u001b[0m\u001b[0mbind\u001b[0m\u001b[1;33m(\u001b[0m\u001b[1;33m(\u001b[0m\u001b[1;34m'192.168.1.2'\u001b[0m\u001b[1;33m,\u001b[0m\u001b[1;36m6789\u001b[0m\u001b[1;33m)\u001b[0m\u001b[1;33m)\u001b[0m\u001b[1;33m\u001b[0m\u001b[0m\n\u001b[0m\u001b[0;32m     13\u001b[0m     \u001b[1;31m# 3 开启监听 - 监听客户端连接到服务器\u001b[0m\u001b[1;33m\u001b[0m\u001b[1;33m\u001b[0m\u001b[0m\n\u001b[0;32m     14\u001b[0m     \u001b[1;31m# 参数512可以理解为连接队列的大小\u001b[0m\u001b[1;33m\u001b[0m\u001b[1;33m\u001b[0m\u001b[0m\n",
      "\u001b[1;31mOSError\u001b[0m: [WinError 10049] 在其上下文中，该请求的地址无效。"
     ]
    }
   ],
   "source": [
    "def main():\n",
    "    # 1 创建套接字对象并指定使用哪种传输服务\n",
    "    # family=AF_INEIT   ----IPv4地址\n",
    "    # family=AF_INET6 - IPv6地址\n",
    "    # type = SOCK_STREAM - TCP套接字\n",
    "    # type= SOCK_DGRAM - UDP套接字\n",
    "    # type = SOCK_RAW - 原始套接字\n",
    "    server = socket(family=AF_INET,type=SOCK_STREAM)\n",
    "    # 2 绑定IP地址和端口（端口用于区分不同的服务）\n",
    "    # 同一时间在同一个端口上只能绑定一个服务否则报错\n",
    "    \n",
    "    server.bind(('192.168.1.2',6789))\n",
    "    # 3 开启监听 - 监听客户端连接到服务器\n",
    "    # 参数512可以理解为连接队列的大小\n",
    "    server.listen(512)\n",
    "    print('服务器启动开始监听。。。')\n",
    "    while True:\n",
    "        # 4通过循环接收客户端的连接并作出相应的处理（提供服务）\n",
    "        # accept 方法是一个阻塞方法如果没有客户端连接到服务器代码不会向下执行\n",
    "        # accept方法返回一个元组其中的第一个元素是客户端对象\n",
    "        # 第二个元素是连接到服务器的客户端的地址（由IP和端口两部分构成）\n",
    "        client,addr = server.accept()\n",
    "        print(str(addr) + '连接到了服务器')\n",
    "        # 5 发送数据\n",
    "        client.send(str(datetime.now()).encode('jbk'))\n",
    "        # 6 断开连接\n",
    "        client.close()\n",
    "        \n",
    "if __name__ == '__main__':\n",
    "    main()"
   ]
  },
  {
   "cell_type": "markdown",
   "metadata": {},
   "source": [
    "通过Python的程序来实现TCP客户端的功能，相较于实现服务器程序，实现客户端程序就简单多了"
   ]
  },
  {
   "cell_type": "code",
   "execution_count": 15,
   "metadata": {},
   "outputs": [],
   "source": [
    "from socket import socket\n"
   ]
  },
  {
   "cell_type": "code",
   "execution_count": 16,
   "metadata": {},
   "outputs": [
    {
     "ename": "TimeoutError",
     "evalue": "[WinError 10060] 由于连接方在一段时间后没有正确答复或连接的主机没有反应，连接尝试失败。",
     "output_type": "error",
     "traceback": [
      "\u001b[1;31m---------------------------------------------------------------------------\u001b[0m",
      "\u001b[1;31mTimeoutError\u001b[0m                              Traceback (most recent call last)",
      "\u001b[1;32m<ipython-input-16-15989d1db208>\u001b[0m in \u001b[0;36m<module>\u001b[1;34m()\u001b[0m\n\u001b[0;32m      9\u001b[0m \u001b[1;33m\u001b[0m\u001b[0m\n\u001b[0;32m     10\u001b[0m \u001b[1;32mif\u001b[0m \u001b[0m__name__\u001b[0m \u001b[1;33m==\u001b[0m \u001b[1;34m'__main__'\u001b[0m\u001b[1;33m:\u001b[0m\u001b[1;33m\u001b[0m\u001b[0m\n\u001b[1;32m---> 11\u001b[1;33m     \u001b[0mmain\u001b[0m\u001b[1;33m(\u001b[0m\u001b[1;33m)\u001b[0m\u001b[1;33m\u001b[0m\u001b[0m\n\u001b[0m\u001b[0;32m     12\u001b[0m \u001b[1;33m\u001b[0m\u001b[0m\n",
      "\u001b[1;32m<ipython-input-16-15989d1db208>\u001b[0m in \u001b[0;36mmain\u001b[1;34m()\u001b[0m\n\u001b[0;32m      3\u001b[0m     \u001b[0mclient\u001b[0m \u001b[1;33m=\u001b[0m \u001b[0msocket\u001b[0m\u001b[1;33m(\u001b[0m\u001b[1;33m)\u001b[0m\u001b[1;33m\u001b[0m\u001b[0m\n\u001b[0;32m      4\u001b[0m     \u001b[1;31m# 2连接到服务器（需要指定IP地址和端口）\u001b[0m\u001b[1;33m\u001b[0m\u001b[1;33m\u001b[0m\u001b[0m\n\u001b[1;32m----> 5\u001b[1;33m     \u001b[0mclient\u001b[0m\u001b[1;33m.\u001b[0m\u001b[0mconnect\u001b[0m\u001b[1;33m(\u001b[0m\u001b[1;33m(\u001b[0m\u001b[1;34m'192.128.1.2'\u001b[0m\u001b[1;33m,\u001b[0m\u001b[1;36m6789\u001b[0m\u001b[1;33m)\u001b[0m\u001b[1;33m)\u001b[0m\u001b[1;33m\u001b[0m\u001b[0m\n\u001b[0m\u001b[0;32m      6\u001b[0m     \u001b[1;31m# 3 从服务器接收数据\u001b[0m\u001b[1;33m\u001b[0m\u001b[1;33m\u001b[0m\u001b[0m\n\u001b[0;32m      7\u001b[0m     \u001b[0mprint\u001b[0m\u001b[1;33m(\u001b[0m\u001b[0mclient\u001b[0m\u001b[1;33m.\u001b[0m\u001b[0mrecv\u001b[0m\u001b[1;33m(\u001b[0m\u001b[1;36m1024\u001b[0m\u001b[1;33m)\u001b[0m\u001b[1;33m.\u001b[0m\u001b[0mdecode\u001b[0m\u001b[1;33m(\u001b[0m\u001b[1;34m'jbk'\u001b[0m\u001b[1;33m)\u001b[0m\u001b[1;33m)\u001b[0m\u001b[1;33m\u001b[0m\u001b[0m\n",
      "\u001b[1;31mTimeoutError\u001b[0m: [WinError 10060] 由于连接方在一段时间后没有正确答复或连接的主机没有反应，连接尝试失败。"
     ]
    }
   ],
   "source": [
    "def main():\n",
    "    # 1创建套接字对象默认使用IPv2和TPC协议\n",
    "    client = socket()\n",
    "    # 2连接到服务器（需要指定IP地址和端口）\n",
    "    client.connect(('192.128.1.2',6789))\n",
    "    # 3 从服务器接收数据\n",
    "    print(client.recv(1024).decode('jbk'))\n",
    "    client.close()\n",
    "    \n",
    "if __name__ == '__main__':\n",
    "    main()\n",
    "    "
   ]
  },
  {
   "cell_type": "markdown",
   "metadata": {},
   "source": [
    "发送短信"
   ]
  },
  {
   "cell_type": "code",
   "execution_count": null,
   "metadata": {},
   "outputs": [],
   "source": [
    "import urllib.parse\n",
    "import http.client\n",
    "import json"
   ]
  },
  {
   "cell_type": "code",
   "execution_count": 18,
   "metadata": {},
   "outputs": [
    {
     "ename": "NameError",
     "evalue": "name 'urllib' is not defined",
     "output_type": "error",
     "traceback": [
      "\u001b[1;31m---------------------------------------------------------------------------\u001b[0m",
      "\u001b[1;31mNameError\u001b[0m                                 Traceback (most recent call last)",
      "\u001b[1;32m<ipython-input-18-e9ff26e136c2>\u001b[0m in \u001b[0;36m<module>\u001b[1;34m()\u001b[0m\n\u001b[0;32m     16\u001b[0m \u001b[1;33m\u001b[0m\u001b[0m\n\u001b[0;32m     17\u001b[0m \u001b[1;32mif\u001b[0m \u001b[0m__name__\u001b[0m \u001b[1;33m==\u001b[0m \u001b[1;34m'__main__'\u001b[0m\u001b[1;33m:\u001b[0m\u001b[1;33m\u001b[0m\u001b[0m\n\u001b[1;32m---> 18\u001b[1;33m     \u001b[0mmain\u001b[0m\u001b[1;33m(\u001b[0m\u001b[1;33m)\u001b[0m\u001b[1;33m\u001b[0m\u001b[0m\n\u001b[0m",
      "\u001b[1;32m<ipython-input-18-e9ff26e136c2>\u001b[0m in \u001b[0;36mmain\u001b[1;34m()\u001b[0m\n\u001b[0;32m      3\u001b[0m     \u001b[0msms_send_uri\u001b[0m \u001b[1;33m=\u001b[0m \u001b[1;34m\"/webservice/sms.php?method=Submit\"\u001b[0m\u001b[1;33m\u001b[0m\u001b[0m\n\u001b[0;32m      4\u001b[0m     \u001b[1;31m# 下面的参数需要填入自己注册的账号和对应的密码\u001b[0m\u001b[1;33m\u001b[0m\u001b[1;33m\u001b[0m\u001b[0m\n\u001b[1;32m----> 5\u001b[1;33m     \u001b[0mparams\u001b[0m \u001b[1;33m=\u001b[0m \u001b[0murllib\u001b[0m\u001b[1;33m.\u001b[0m\u001b[0mparse\u001b[0m\u001b[1;33m.\u001b[0m\u001b[0murlencode\u001b[0m\u001b[1;33m(\u001b[0m\u001b[1;33m{\u001b[0m\u001b[1;34m'account'\u001b[0m\u001b[1;33m:\u001b[0m \u001b[1;34m'你自己的账号'\u001b[0m\u001b[1;33m,\u001b[0m \u001b[1;34m'password'\u001b[0m \u001b[1;33m:\u001b[0m \u001b[1;34m'你自己的密码'\u001b[0m\u001b[1;33m,\u001b[0m \u001b[1;34m'content'\u001b[0m\u001b[1;33m:\u001b[0m \u001b[1;34m'您的验证码是：147258。请不要把验证码泄露给其他人。'\u001b[0m\u001b[1;33m,\u001b[0m \u001b[1;34m'mobile'\u001b[0m\u001b[1;33m:\u001b[0m \u001b[1;34m'接收者的手机号'\u001b[0m\u001b[1;33m,\u001b[0m \u001b[1;34m'format'\u001b[0m\u001b[1;33m:\u001b[0m\u001b[1;34m'json'\u001b[0m \u001b[1;33m}\u001b[0m\u001b[1;33m)\u001b[0m\u001b[1;33m\u001b[0m\u001b[0m\n\u001b[0m\u001b[0;32m      6\u001b[0m     \u001b[0mprint\u001b[0m\u001b[1;33m(\u001b[0m\u001b[0mparams\u001b[0m\u001b[1;33m)\u001b[0m\u001b[1;33m\u001b[0m\u001b[0m\n\u001b[0;32m      7\u001b[0m     \u001b[0mheaders\u001b[0m \u001b[1;33m=\u001b[0m \u001b[1;33m{\u001b[0m\u001b[1;34m'Content-type'\u001b[0m\u001b[1;33m:\u001b[0m \u001b[1;34m'application/x-www-form-urlencoded'\u001b[0m\u001b[1;33m,\u001b[0m \u001b[1;34m'Accept'\u001b[0m\u001b[1;33m:\u001b[0m \u001b[1;34m'text/plain'\u001b[0m\u001b[1;33m}\u001b[0m\u001b[1;33m\u001b[0m\u001b[0m\n",
      "\u001b[1;31mNameError\u001b[0m: name 'urllib' is not defined"
     ]
    }
   ],
   "source": [
    "def main():\n",
    "    host  = \"106.ihuyi.com\"\n",
    "    sms_send_uri = \"/webservice/sms.php?method=Submit\"\n",
    "    # 下面的参数需要填入自己注册的账号和对应的密码\n",
    "    params = urllib.parse.urlencode({'account': '你自己的账号', 'password' : '你自己的密码', 'content': '您的验证码是：147258。请不要把验证码泄露给其他人。', 'mobile': '接收者的手机号', 'format':'json' })\n",
    "    print(params)\n",
    "    headers = {'Content-type': 'application/x-www-form-urlencoded', 'Accept': 'text/plain'}\n",
    "    conn = http.client.HTTPConnection(host, port=80, timeout=30)\n",
    "    conn.request('POST', sms_send_uri, params, headers)\n",
    "    response = conn.getresponse()\n",
    "    response_str = response.read()\n",
    "    jsonstr = response_str.decode('jbk')\n",
    "    print(json.loads(jsonstr))\n",
    "    conn.close()\n",
    "\n",
    "\n",
    "if __name__ == '__main__':\n",
    "    main()"
   ]
  },
  {
   "cell_type": "code",
   "execution_count": null,
   "metadata": {},
   "outputs": [],
   "source": []
  },
  {
   "cell_type": "code",
   "execution_count": null,
   "metadata": {},
   "outputs": [],
   "source": []
  }
 ],
 "metadata": {
  "kernelspec": {
   "display_name": "Python 3",
   "language": "python",
   "name": "python3"
  },
  "language_info": {
   "codemirror_mode": {
    "name": "ipython",
    "version": 3
   },
   "file_extension": ".py",
   "mimetype": "text/x-python",
   "name": "python",
   "nbconvert_exporter": "python",
   "pygments_lexer": "ipython3",
   "version": "3.6.4"
  }
 },
 "nbformat": 4,
 "nbformat_minor": 2
}
