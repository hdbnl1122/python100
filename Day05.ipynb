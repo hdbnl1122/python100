{
 "cells": [
  {
   "cell_type": "code",
   "execution_count": null,
   "metadata": {},
   "outputs": [],
   "source": [
    "\"\"\"\n",
    "求解《百鸡百钱》问题\n",
    "1只公鸡5元 ， 1只母鸡3元，三只小鸡1元 用100元买一百只鸡\n",
    "问个多少只鸡\n",
    "\"\"\""
   ]
  },
  {
   "cell_type": "code",
   "execution_count": 3,
   "metadata": {},
   "outputs": [
    {
     "name": "stdout",
     "output_type": "stream",
     "text": [
      "公鸡：0只，母鸡：25只，小鸡：75只\n",
      "公鸡：4只，母鸡：18只，小鸡：78只\n",
      "公鸡：8只，母鸡：11只，小鸡：81只\n",
      "公鸡：12只，母鸡：4只，小鸡：84只\n"
     ]
    }
   ],
   "source": [
    "for x in range(0,20):\n",
    "    for y in range(0,33):\n",
    "        z = 100 - x - y\n",
    "        if 5 * x + 3 * y + z / 3 ==100:\n",
    "            print('公鸡：%d只，母鸡：%d只，小鸡：%d只'%(x,y,z))"
   ]
  },
  {
   "cell_type": "code",
   "execution_count": null,
   "metadata": {},
   "outputs": [],
   "source": [
    "\"\"\"\n",
    "Craps赌博游戏\n",
    "玩家要两颗骰子 如果第一次摇出7点或11点 玩家胜\n",
    "如果摇出2点 3,12点 庄家胜 其他情况游戏继续\n",
    "玩家再徭一次 如果摇出7点 庄家胜\n",
    "如果摇出第一次瑶的点数 玩家胜\n",
    "否则游戏继续  玩家继续摇色子\n",
    "玩家进入游戏时有1000元的赌注  全部输光游戏结束\n",
    "\"\"\""
   ]
  },
  {
   "cell_type": "code",
   "execution_count": 4,
   "metadata": {},
   "outputs": [],
   "source": [
    "from random import randint"
   ]
  },
  {
   "cell_type": "code",
   "execution_count": 5,
   "metadata": {},
   "outputs": [
    {
     "name": "stdout",
     "output_type": "stream",
     "text": [
      "你的总资产为： 1000\n",
      "请下注：500\n",
      "你的总资产为： 1000\n",
      "请下注：7\n",
      "你的总资产为： 1000\n",
      "请下注：56\n",
      "你的总资产为： 1000\n",
      "请下注：100\n",
      "你的总资产为： 1000\n",
      "请下注：788\n",
      "你的总资产为： 1000\n",
      "请下注：568\n",
      "你的总资产为： 1000\n",
      "请下注：1000\n",
      "你的总资产为： 1000\n",
      "请下注：1000\n",
      "你的总资产为： 1000\n",
      "请下注：1234\n",
      "玩家摇出了8点\n",
      "玩家摇出了10点\n",
      "玩家摇出了8点\n",
      "玩家胜\n",
      "请下注：2345\n",
      "玩家摇出了6点\n",
      "玩家摇出了4点\n",
      "玩家摇出了11点\n",
      "玩家摇出了4点\n",
      "玩家摇出了4点\n",
      "玩家摇出了8点\n",
      "玩家摇出了4点\n",
      "玩家摇出了6点\n",
      "玩家胜\n",
      "请下注：7894\n",
      "玩家摇出了11点\n",
      "玩家胜\n",
      "请下注：46546545\n",
      "玩家摇出了5点\n",
      "玩家摇出了10点\n",
      "玩家摇出了4点\n",
      "玩家摇出了5点\n",
      "玩家胜\n",
      "请下注：12213321656\n",
      "玩家摇出了8点\n",
      "玩家摇出了7点\n",
      "庄家胜\n",
      "请下注：4545488\n",
      "玩家摇出了3点\n",
      "庄家胜\n",
      "请下注：54564654\n",
      "玩家摇出了7点\n",
      "玩家胜\n",
      "请下注：654654\n",
      "玩家摇出了3点\n",
      "庄家胜\n",
      "请下注：5465456\n",
      "玩家摇出了6点\n",
      "玩家摇出了8点\n",
      "玩家摇出了10点\n",
      "玩家摇出了9点\n",
      "玩家摇出了7点\n",
      "庄家胜\n",
      "请下注：+654+54\n"
     ]
    },
    {
     "ename": "ValueError",
     "evalue": "invalid literal for int() with base 10: '+654+54'",
     "output_type": "error",
     "traceback": [
      "\u001b[1;31m---------------------------------------------------------------------------\u001b[0m",
      "\u001b[1;31mValueError\u001b[0m                                Traceback (most recent call last)",
      "\u001b[1;32m<ipython-input-5-ff52c1698566>\u001b[0m in \u001b[0;36m<module>\u001b[1;34m()\u001b[0m\n\u001b[0;32m      4\u001b[0m     \u001b[0mneeds_go_on\u001b[0m \u001b[1;33m=\u001b[0m \u001b[1;32mFalse\u001b[0m\u001b[1;33m\u001b[0m\u001b[0m\n\u001b[0;32m      5\u001b[0m     \u001b[1;32mwhile\u001b[0m \u001b[1;32mTrue\u001b[0m\u001b[1;33m:\u001b[0m\u001b[1;33m\u001b[0m\u001b[0m\n\u001b[1;32m----> 6\u001b[1;33m         \u001b[0mdept\u001b[0m \u001b[1;33m=\u001b[0m \u001b[0mint\u001b[0m\u001b[1;33m(\u001b[0m\u001b[0minput\u001b[0m\u001b[1;33m(\u001b[0m\u001b[1;34m'请下注：'\u001b[0m\u001b[1;33m)\u001b[0m\u001b[1;33m)\u001b[0m\u001b[1;33m\u001b[0m\u001b[0m\n\u001b[0m\u001b[0;32m      7\u001b[0m         \u001b[1;32mif\u001b[0m \u001b[0mdept\u001b[0m \u001b[1;33m>\u001b[0m \u001b[1;36m0\u001b[0m \u001b[1;32mand\u001b[0m \u001b[0mdept\u001b[0m \u001b[1;33m<=\u001b[0m \u001b[0mmoney\u001b[0m\u001b[1;33m:\u001b[0m\u001b[1;33m\u001b[0m\u001b[0m\n\u001b[0;32m      8\u001b[0m             \u001b[1;32mbreak\u001b[0m\u001b[1;33m\u001b[0m\u001b[0m\n",
      "\u001b[1;31mValueError\u001b[0m: invalid literal for int() with base 10: '+654+54'"
     ]
    }
   ],
   "source": [
    "money = 1000\n",
    "while money >0:\n",
    "    print('你的总资产为：',money)\n",
    "    needs_go_on = False\n",
    "    while True:\n",
    "        dept = int(input('请下注：'))\n",
    "        if dept > 0 and dept <= money:\n",
    "            break\n",
    "        first = randint(1,6) + randint(1,6)\n",
    "        print('玩家摇出了%d点' % first)\n",
    "        if first ==7 or first == 11:\n",
    "            print('玩家胜')\n",
    "            money += dept\n",
    "        elif first ==2 or first ==3 or first ==12:\n",
    "            print('庄家胜')\n",
    "            \n",
    "            money -= dept\n",
    "        else:\n",
    "            needs_go_on = True\n",
    "            \n",
    "            \n",
    "        while needs_go_on:\n",
    "            current = randint(1,6) + randint(1,6)\n",
    "            print('玩家摇出了%d点'% current)\n",
    "            if current ==7:\n",
    "                print('庄家胜')\n",
    "                money -= dept\n",
    "                needs_go_on = False\n",
    "            elif current == first:\n",
    "                print('玩家胜')\n",
    "                money += dept\n",
    "                needs_go_on = False\n",
    "print('你破产了，游戏结束')"
   ]
  },
  {
   "cell_type": "code",
   "execution_count": null,
   "metadata": {},
   "outputs": [],
   "source": [
    "\"\"\"\n",
    "输出斐波那锲数列的前二十个数\n",
    "\"\"\""
   ]
  },
  {
   "cell_type": "code",
   "execution_count": 6,
   "metadata": {},
   "outputs": [
    {
     "name": "stdout",
     "output_type": "stream",
     "text": [
      "1 1 2 3 5 8 13 21 34 55 89 144 233 377 610 987 1597 2584 4181 6765 "
     ]
    }
   ],
   "source": [
    "a = 0\n",
    "b = 1\n",
    "for _ in range(20):\n",
    "    a , b = b , a + b\n",
    "    print(a, end = ' ')"
   ]
  },
  {
   "cell_type": "code",
   "execution_count": null,
   "metadata": {},
   "outputs": [],
   "source": [
    "\"\"\"\n",
    "找出100~999之间的所有水仙花数\n",
    "水仙花数是各位立方和等于这个数本身的数\n",
    "\"\"\""
   ]
  },
  {
   "cell_type": "code",
   "execution_count": 8,
   "metadata": {},
   "outputs": [
    {
     "name": "stdout",
     "output_type": "stream",
     "text": [
      "153\n",
      "370\n",
      "371\n",
      "407\n"
     ]
    }
   ],
   "source": [
    "for num in range(100,1000):\n",
    "    low = num % 10\n",
    "    mid = num // 10 % 10\n",
    "    high = num // 100\n",
    "    if num == low **3 + mid ** 3 + high ** 3:\n",
    "        print(num)"
   ]
  },
  {
   "cell_type": "code",
   "execution_count": null,
   "metadata": {},
   "outputs": [],
   "source": [
    "\"\"\"\n",
    "判断输入的正整数是不是回文数\n",
    "回文数是指将一个正整数从左往右排列和从右往左排列值一样的数\n",
    "\"\"\""
   ]
  },
  {
   "cell_type": "code",
   "execution_count": 10,
   "metadata": {},
   "outputs": [
    {
     "name": "stdout",
     "output_type": "stream",
     "text": [
      "请输入一个正整数：11\n",
      "11是回文数\n"
     ]
    }
   ],
   "source": [
    "num = int(input('请输入一个正整数：'))\n",
    "temp = num\n",
    "num2 = 0\n",
    "while temp > 0:\n",
    "    num2 *= 10\n",
    "    num2 += temp % 10\n",
    "    temp //=10\n",
    "if num == num2:\n",
    "    print('%d是回文数'% num)\n",
    "else:\n",
    "    print('%d不是回文数'% num)"
   ]
  },
  {
   "cell_type": "code",
   "execution_count": null,
   "metadata": {},
   "outputs": [],
   "source": [
    "\"\"\"\n",
    "找出1~9999之间的所有完美数\n",
    "完美数是除自身外其他所有因子的和正好等于这个数本身得数\n",
    "例如 6 = 1 + 2 + 3\n",
    "\"\"\""
   ]
  },
  {
   "cell_type": "code",
   "execution_count": 11,
   "metadata": {},
   "outputs": [],
   "source": [
    "import math\n"
   ]
  },
  {
   "cell_type": "code",
   "execution_count": 12,
   "metadata": {},
   "outputs": [
    {
     "name": "stdout",
     "output_type": "stream",
     "text": [
      "1\n",
      "6\n",
      "28\n",
      "496\n",
      "8128\n"
     ]
    }
   ],
   "source": [
    "for num in range(1,10000):\n",
    "    sum = 0\n",
    "    for factor in range(1,int(math.sqrt(num)) + 1):\n",
    "        if num % factor ==0:\n",
    "            sum += factor\n",
    "            if factor > 1 and num / factor != factor:\n",
    "                sum += num / factor\n",
    "    if sum == num:\n",
    "        print(num)"
   ]
  },
  {
   "cell_type": "code",
   "execution_count": null,
   "metadata": {},
   "outputs": [],
   "source": []
  }
 ],
 "metadata": {
  "kernelspec": {
   "display_name": "Python 3",
   "language": "python",
   "name": "python3"
  },
  "language_info": {
   "codemirror_mode": {
    "name": "ipython",
    "version": 3
   },
   "file_extension": ".py",
   "mimetype": "text/x-python",
   "name": "python",
   "nbconvert_exporter": "python",
   "pygments_lexer": "ipython3",
   "version": "3.6.4"
  }
 },
 "nbformat": 4,
 "nbformat_minor": 2
}
