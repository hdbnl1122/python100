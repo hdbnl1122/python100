{
 "cells": [
  {
   "cell_type": "code",
   "execution_count": null,
   "metadata": {},
   "outputs": [],
   "source": [
    "\"\"\"\n",
    "用户身份验证\n",
    "\"\"\""
   ]
  },
  {
   "cell_type": "code",
   "execution_count": null,
   "metadata": {},
   "outputs": [],
   "source": [
    "import getpass "
   ]
  },
  {
   "cell_type": "code",
   "execution_count": 1,
   "metadata": {},
   "outputs": [
    {
     "name": "stdout",
     "output_type": "stream",
     "text": [
      "请输入用户名：韩宝林\n",
      "请输入口令：123456\n",
      "身份验证失败！\n"
     ]
    }
   ],
   "source": [
    "username = input(\"请输入用户名：\")\n",
    "password = input(\"请输入口令：\")\n",
    "# password = getpass.getpass('请输入口令：')\n",
    "if username =='admin' and password == '123456':\n",
    "    print('身份验证成功！')\n",
    "else:\n",
    "    print('身份验证失败！')"
   ]
  },
  {
   "cell_type": "code",
   "execution_count": null,
   "metadata": {},
   "outputs": [],
   "source": [
    "\"\"\"\n",
    "分段函数求值\n",
    "\"\"\""
   ]
  },
  {
   "cell_type": "code",
   "execution_count": 2,
   "metadata": {},
   "outputs": [
    {
     "name": "stdout",
     "output_type": "stream",
     "text": [
      "x= 2\n",
      "f(2.00)=1.00\n"
     ]
    }
   ],
   "source": [
    "x = float(input('x= '))\n",
    "if x > 1:\n",
    "    y= 3*x - 5\n",
    "elif x >=-1:\n",
    "    y = x + 2\n",
    "else:\n",
    "    y = 5*x + 3\n",
    "print('f(%.2f)=%.2f' % (x,y) )\n"
   ]
  },
  {
   "cell_type": "code",
   "execution_count": null,
   "metadata": {},
   "outputs": [],
   "source": [
    "\"\"\"\n",
    "英制单位英寸和公制单位厘米互换\n",
    "\"\"\""
   ]
  },
  {
   "cell_type": "code",
   "execution_count": 3,
   "metadata": {},
   "outputs": [
    {
     "name": "stdout",
     "output_type": "stream",
     "text": [
      "请输入长度：45\n",
      "请输入单位:cm\n",
      "45.000000厘米 = 17.716535英寸\n"
     ]
    }
   ],
   "source": [
    "value = float(input('请输入长度：'))\n",
    "unit = input('请输入单位:')\n",
    "if unit =='in' or unit =='英寸':\n",
    "    print('%f英寸 = %f厘米'% (value,value*2.54))\n",
    "elif unit =='cm' or unit =='厘米':\n",
    "    print('%f厘米 = %f英寸'% (value,value/2.54))\n",
    "else:\n",
    "    print('请输入有效的单位')"
   ]
  },
  {
   "cell_type": "code",
   "execution_count": null,
   "metadata": {},
   "outputs": [],
   "source": [
    "\"\"\"\n",
    "掷骰子决定做什么事\n",
    "\"\"\""
   ]
  },
  {
   "cell_type": "code",
   "execution_count": 6,
   "metadata": {},
   "outputs": [],
   "source": [
    "from random import randint"
   ]
  },
  {
   "cell_type": "code",
   "execution_count": 8,
   "metadata": {},
   "outputs": [
    {
     "name": "stdout",
     "output_type": "stream",
     "text": [
      "念绕口令\n"
     ]
    }
   ],
   "source": [
    "face = randint(1,6)\n",
    "if face ==1:\n",
    "    result = '唱歌'\n",
    "elif face ==2:\n",
    "    result = '跳舞'\n",
    "elif face ==3:\n",
    "    result = '唱学狗叫'\n",
    "elif face ==4:\n",
    "    result = '做俯卧撑'\n",
    "elif face ==5:\n",
    "    result = '念绕口令'\n",
    "else:\n",
    "    result = '讲个笑话'\n",
    "print(result)"
   ]
  },
  {
   "cell_type": "code",
   "execution_count": null,
   "metadata": {},
   "outputs": [],
   "source": [
    "\"\"\"\n",
    "百分制成绩转等级成绩\n",
    "\"\"\""
   ]
  },
  {
   "cell_type": "code",
   "execution_count": 9,
   "metadata": {},
   "outputs": [
    {
     "name": "stdout",
     "output_type": "stream",
     "text": [
      "请输入成绩：85\n",
      "对应的等级是： B\n"
     ]
    }
   ],
   "source": [
    "score = float(input('请输入成绩：'))\n",
    "if score >=90:\n",
    "    grade = 'A'\n",
    "elif score >=80:\n",
    "    grade = 'B'\n",
    "elif score >=70:\n",
    "    grade = 'C'\n",
    "elif score >=60:\n",
    "    grade = 'D'\n",
    "else:\n",
    "    grade = 'E'\n",
    "print('对应的等级是：', grade)"
   ]
  },
  {
   "cell_type": "code",
   "execution_count": null,
   "metadata": {},
   "outputs": [],
   "source": [
    "\"\"\"\n",
    "判断输入的边长能否构成三角形\n",
    "\"\"\""
   ]
  },
  {
   "cell_type": "code",
   "execution_count": 14,
   "metadata": {},
   "outputs": [],
   "source": [
    "import math"
   ]
  },
  {
   "cell_type": "code",
   "execution_count": 15,
   "metadata": {},
   "outputs": [
    {
     "name": "stdout",
     "output_type": "stream",
     "text": [
      "a = 3\n",
      "b = 4\n",
      "c = 5\n",
      "周长：12.000000\n",
      "面积：6.000000\n"
     ]
    }
   ],
   "source": [
    "a = float(input('a = '))\n",
    "b = float(input('b = '))\n",
    "c=  float(input('c = '))\n",
    "if a + b > c and a + c > b and b + c > a:\n",
    "    print('周长：%f' %(a + b + c))\n",
    "    p = (a + b + c)/2\n",
    "    area = math.sqrt(p *(p-a)*(p-b)*(p-c))\n",
    "    print('面积：%f'%( area))\n",
    "else:\n",
    "    print('不能构成三角形')"
   ]
  },
  {
   "cell_type": "code",
   "execution_count": null,
   "metadata": {},
   "outputs": [],
   "source": [
    "\"\"\"\n",
    "输入月收入和五险一金计算个人所得税\n",
    "\"\"\""
   ]
  },
  {
   "cell_type": "code",
   "execution_count": 17,
   "metadata": {},
   "outputs": [
    {
     "name": "stdout",
     "output_type": "stream",
     "text": [
      "本月收入：5688\n",
      "五险一金：234\n",
      "个人所得税：￥90.40元\n",
      "实际到手收入：￥5363.60元\n"
     ]
    }
   ],
   "source": [
    "salary = float(input('本月收入：'))\n",
    "insureance = float(input('五险一金：'))\n",
    "diff = salary - insureance - 3500\n",
    "if diff <= 0:\n",
    "    rate = 0\n",
    "    deduction = 0\n",
    "elif diff < 1500:\n",
    "    rate = 0.03\n",
    "    deduction = 0\n",
    "elif diff <4500:\n",
    "    rate = 0.1\n",
    "    deduction = 105\n",
    "elif diff <9000:\n",
    "    rate = 0.2\n",
    "    deduction = 555\n",
    "elif diff <35000:\n",
    "    rate = 0.25\n",
    "    deduction = 1005\n",
    "elif diff <55000:\n",
    "    rate = 0.3\n",
    "    deduction = 2755\n",
    "elif diff <80000:\n",
    "    rate = 0.35\n",
    "    deduction = 5505\n",
    "else:\n",
    "    rate = 0.45\n",
    "    deduction = 13505\n",
    "tax = abs(diff * rate - deduction)\n",
    "print('个人所得税：￥%.2f元' % tax)\n",
    "print('实际到手收入：￥%.2f元'%(diff + 3500 -tax))"
   ]
  },
  {
   "cell_type": "code",
   "execution_count": null,
   "metadata": {},
   "outputs": [],
   "source": []
  },
  {
   "cell_type": "code",
   "execution_count": null,
   "metadata": {},
   "outputs": [],
   "source": []
  },
  {
   "cell_type": "code",
   "execution_count": null,
   "metadata": {},
   "outputs": [],
   "source": []
  },
  {
   "cell_type": "code",
   "execution_count": null,
   "metadata": {},
   "outputs": [],
   "source": []
  },
  {
   "cell_type": "code",
   "execution_count": null,
   "metadata": {},
   "outputs": [],
   "source": []
  },
  {
   "cell_type": "code",
   "execution_count": null,
   "metadata": {},
   "outputs": [],
   "source": []
  },
  {
   "cell_type": "code",
   "execution_count": null,
   "metadata": {},
   "outputs": [],
   "source": []
  }
 ],
 "metadata": {
  "kernelspec": {
   "display_name": "Python 3",
   "language": "python",
   "name": "python3"
  },
  "language_info": {
   "codemirror_mode": {
    "name": "ipython",
    "version": 3
   },
   "file_extension": ".py",
   "mimetype": "text/x-python",
   "name": "python",
   "nbconvert_exporter": "python",
   "pygments_lexer": "ipython3",
   "version": "3.6.4"
  }
 },
 "nbformat": 4,
 "nbformat_minor": 2
}
