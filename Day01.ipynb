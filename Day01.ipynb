{
 "cells": [
  {
   "cell_type": "code",
   "execution_count": 1,
   "metadata": {},
   "outputs": [
    {
     "name": "stdout",
     "output_type": "stream",
     "text": [
      "hello word\n"
     ]
    }
   ],
   "source": [
    "print('hello word')"
   ]
  },
  {
   "cell_type": "code",
   "execution_count": 1,
   "metadata": {},
   "outputs": [],
   "source": [
    "import turtle"
   ]
  },
  {
   "cell_type": "code",
   "execution_count": 2,
   "metadata": {},
   "outputs": [],
   "source": [
    "turtle.pensize(4)\n",
    "turtle.pencolor('red')\n",
    "turtle.forward(100)\n",
    "turtle.right(90)\n",
    "turtle.forward(100)\n",
    "turtle.right(90)\n",
    "turtle.forward(100)\n",
    "turtle.right(90)\n",
    "turtle.forward(100)\n",
    "turtle.mainloop()"
   ]
  },
  {
   "cell_type": "code",
   "execution_count": 3,
   "metadata": {},
   "outputs": [
    {
     "name": "stdout",
     "output_type": "stream",
     "text": [
      "444\n",
      "198\n",
      "39483\n",
      "2.6097560975609757\n",
      "2\n",
      "75\n",
      "199580904170858944588683464608694075062943107082809027605498347841561605181074274426665986623764972439807786764739130193391688887305693295698132008415537889753720415793877902074665765736230030622222862498385818118244547668141388643750880896837470534556730014314212951333550122949806119583030226121714710874561\n"
     ]
    }
   ],
   "source": [
    "a=321\n",
    "b=123\n",
    "print(a + b)\n",
    "print(a - b)\n",
    "print(a * b)\n",
    "print(a / b)\n",
    "print(a // b)\n",
    "print(a % b)\n",
    "print(a ** b)"
   ]
  },
  {
   "cell_type": "code",
   "execution_count": 4,
   "metadata": {},
   "outputs": [
    {
     "name": "stdout",
     "output_type": "stream",
     "text": [
      "hello word\n",
      "你好 ， 世界\n",
      "hello,word!goodbay word!\n"
     ]
    }
   ],
   "source": [
    "print('hello word')\n",
    "print(\"你好 ， 世界\")\n",
    "print('hello','word',sep=',',end='!')\n",
    "print('goodbay','word',end='!\\n')"
   ]
  },
  {
   "cell_type": "code",
   "execution_count": 1,
   "metadata": {},
   "outputs": [],
   "source": [
    "from turtle import *\n"
   ]
  },
  {
   "cell_type": "code",
   "execution_count": 2,
   "metadata": {},
   "outputs": [],
   "source": [
    "def nose(x,y):\n",
    "    \"\"\"画鼻子\"\"\"\n",
    "    penup()\n",
    "    #将海龟移动到指定的坐标\n",
    "    goto(x,y)\n",
    "    pendown()\n",
    "    #设置海龟的方向（0-东，90-北，180-西，270-南）\n",
    "    setheading(-30)\n",
    "    begin_fill()\n",
    "    a = 0.4\n",
    "    for i in range(120):\n",
    "        if 0 <= i< 30 or 60 <= i < 90:\n",
    "            a = a + 0.08\n",
    "            #向左转3度\n",
    "            left(3)\n",
    "            #向前走\n",
    "            forward(a)\n",
    "        else:\n",
    "            a = a-0.08\n",
    "            left(3)\n",
    "            forward(a)\n",
    "    end_fill()\n",
    "    penup()\n",
    "    setheading(90)\n",
    "    forward(25)\n",
    "    setheading(0)\n",
    "    forward(10)\n",
    "    pendown()     #没错\n",
    "    #设置画笔的颜色（红，绿，蓝）\n",
    "    pencolor(255,155,192)\n",
    "    setheading(10)\n",
    "    begin_fill()\n",
    "    circle(5)\n",
    "    color(160,82,45)\n",
    "    end_fill()\n",
    "    penup()\n",
    "    setheading(0)\n",
    "    forward(20)\n",
    "    pendown()\n",
    "    pencolor(255,155,192)\n",
    "    setheading(10)\n",
    "    begin_fill()\n",
    "    circle(5)\n",
    "    color(160,82,45)\n",
    "    end_fill()"
   ]
  },
  {
   "cell_type": "code",
   "execution_count": 3,
   "metadata": {},
   "outputs": [],
   "source": [
    "def head(x,y):\n",
    "    \"\"\"画头\"\"\"\n",
    "    color((255,155,192),\"pink\")\n",
    "    penup()\n",
    "    goto(x,y)\n",
    "    setheading(0)\n",
    "    pendown()\n",
    "    begin_fill()\n",
    "    setheading(180)\n",
    "    circle(300,-30)\n",
    "    circle(100,-60)\n",
    "    circle(80,-100)\n",
    "    circle(150,-20)\n",
    "    circle(60,-95)\n",
    "    setheading(161)\n",
    "    circle(-300,15)\n",
    "    penup()\n",
    "    goto(-100,100)\n",
    "    pendown()\n",
    "    setheading(-30)\n",
    "    a = 0.4\n",
    "    for i in range(60):\n",
    "        if 0 <=i < 30 or 60 <= i < 90:\n",
    "            a = a + 0.08\n",
    "            lt(3) #向左转3度\n",
    "            fd(a) #向前走a的步长\n",
    "        else:\n",
    "            a = a -0.08\n",
    "            lt(3)\n",
    "            fd(a)\n",
    "    end_fill()\n",
    "    "
   ]
  },
  {
   "cell_type": "code",
   "execution_count": 4,
   "metadata": {},
   "outputs": [],
   "source": [
    "def ears(x,y):\n",
    "    \"\"\"画耳朵\"\"\"\n",
    "    color((255,155,92),\"pink\")\n",
    "    penup()\n",
    "    goto(x,y)\n",
    "    pendown()\n",
    "    begin_fill()\n",
    "    setheading(100)\n",
    "    circle(-50,50)\n",
    "    circle(-10,120)\n",
    "    circle(-50,54)\n",
    "    end_fill()\n",
    "    penup()\n",
    "    setheading(90)\n",
    "    forward(-12)\n",
    "    setheading(0)\n",
    "    forward(30)\n",
    "    pendown()\n",
    "    begin_fill()\n",
    "    setheading(100)\n",
    "    circle(-50,50)\n",
    "    circle(-10,120)\n",
    "    circle(-50,56)\n",
    "    end_fill()\n",
    "    "
   ]
  },
  {
   "cell_type": "code",
   "execution_count": 16,
   "metadata": {},
   "outputs": [],
   "source": [
    "def eyes(x,y):\n",
    "    \"\"\"画眼睛\"\"\"\n",
    "    color((255,155,192),\"white\")\n",
    "    penup()\n",
    "    setheading(90)\n",
    "    forward(-20)\n",
    "    setheading(0)\n",
    "    forward(-95)\n",
    "    pendown()\n",
    "    begin_fill()\n",
    "    circle(15)\n",
    "    end_fill()\n",
    "    color(\"black\")\n",
    "    penup()\n",
    "    setheading(90)\n",
    "    forward(12)\n",
    "    setheading(0)\n",
    "    forward(-3)\n",
    "    pendown()\n",
    "    begin_fill()\n",
    "    circle(3)\n",
    "    end_fill()\n",
    "    color((255,155,192),\"white\")\n",
    "    penup()\n",
    "    seth(90)\n",
    "    forward(-25)\n",
    "    seth(0)\n",
    "    forward(40)\n",
    "    pendown()\n",
    "    begin_fill()\n",
    "    circle(15)\n",
    "    end_fill()\n",
    "    color(\"black\")\n",
    "    penup()\n",
    "    setheading(90)\n",
    "    forward(12)\n",
    "    setheading(0)\n",
    "    forward(-3)\n",
    "    pendown()\n",
    "    begin_fill()\n",
    "    circle(3)\n",
    "    end_fill()\n",
    "    "
   ]
  },
  {
   "cell_type": "code",
   "execution_count": 19,
   "metadata": {},
   "outputs": [],
   "source": [
    "def cheek(x,y):\n",
    "    \"\"\"画脸颊\"\"\"\n",
    "    color((255,155,192))\n",
    "    penup()\n",
    "    goto(x,y)\n",
    "    pendown()\n",
    "    setheading(0)\n",
    "    begin_fill()\n",
    "    circle(30)\n",
    "    end_fill()\n",
    "    "
   ]
  },
  {
   "cell_type": "code",
   "execution_count": 7,
   "metadata": {},
   "outputs": [],
   "source": [
    "def mouth(x,y):\n",
    "    \"\"\"画嘴巴\"\"\"\n",
    "    color(239,69,19)\n",
    "    penup()\n",
    "    goto(x,y)\n",
    "    pendown()\n",
    "    setheading(-80)\n",
    "    circle(30,40)\n",
    "    circle(40,80)\n",
    "    "
   ]
  },
  {
   "cell_type": "code",
   "execution_count": 13,
   "metadata": {},
   "outputs": [],
   "source": [
    "def setting():\n",
    "    \"\"\"设置参数\"\"\"\n",
    "    pensize(4)\n",
    "    #隐藏海龟\n",
    "    hideturtle()\n",
    "    colormode(255)\n",
    "    color((255,155,192),\"pink\")\n",
    "    setup(840,500)\n",
    "    speed(10)"
   ]
  },
  {
   "cell_type": "code",
   "execution_count": 20,
   "metadata": {},
   "outputs": [],
   "source": [
    "def main():\n",
    "    \"\"\"主函数\"\"\"\n",
    "    setting()\n",
    "    nose(-100,100)\n",
    "    head(-69,167)\n",
    "    ears(0,160)\n",
    "    eyes(0,140)\n",
    "    cheek(80,10)\n",
    "    mouth(-20,30)\n",
    "    done()\n",
    " "
   ]
  },
  {
   "cell_type": "code",
   "execution_count": 21,
   "metadata": {},
   "outputs": [],
   "source": [
    "if __name__ == '__main__':\n",
    "    main()  "
   ]
  },
  {
   "cell_type": "code",
   "execution_count": null,
   "metadata": {},
   "outputs": [],
   "source": []
  }
 ],
 "metadata": {
  "kernelspec": {
   "display_name": "Python 3",
   "language": "python",
   "name": "python3"
  },
  "language_info": {
   "codemirror_mode": {
    "name": "ipython",
    "version": 3
   },
   "file_extension": ".py",
   "mimetype": "text/x-python",
   "name": "python",
   "nbconvert_exporter": "python",
   "pygments_lexer": "ipython3",
   "version": "3.6.4"
  }
 },
 "nbformat": 4,
 "nbformat_minor": 2
}
